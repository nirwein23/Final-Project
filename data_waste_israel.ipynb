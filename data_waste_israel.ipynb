{
  "nbformat": 4,
  "nbformat_minor": 0,
  "metadata": {
    "colab": {
      "provenance": [],
      "gpuType": "T4"
    },
    "kernelspec": {
      "name": "python3",
      "display_name": "Python 3"
    },
    "language_info": {
      "name": "python"
    },
    "accelerator": "GPU"
  },
  "cells": [
    {
      "cell_type": "markdown",
      "source": [
        " # **Importing Datasets**"
      ],
      "metadata": {
        "id": "iaGNreIfGotB"
      }
    },
    {
      "cell_type": "code",
      "source": [
        "import gdown\n",
        "gdown.download('https://drive.google.com/uc?id=1bimJIVcVPMd1i4u6eGqs1FgdNtG-kbvC', 'data.xlsx', quiet=False)\n",
        "gdown.download('https://drive.google.com/uc?id=1BasIkcXt4aK5En-5ZlopojXGQiWWNZH7', 'data2.xlsx', quiet=False)\n",
        "gdown.download('https://drive.google.com/uc?id=1LxKiSEc8pQ8qPXdmIdTl3TbCycW5X1XD', 'data3.xlsx', quiet=False)\n",
        "gdown.download('https://drive.google.com/uc?id=1mdklACzF8Vey-KIEMVpWHw_EB7YPDl9m', 'data4.xlsx', quiet=False)\n",
        "gdown.download('https://drive.google.com/uc?id=14xSUV_qZzPqacybJig3BpFWBgli_1Np8', 'data5.xlsx', quiet=False)"
      ],
      "metadata": {
        "colab": {
          "base_uri": "https://localhost:8080/",
          "height": 382
        },
        "id": "vx0fsIO6Gl8q",
        "outputId": "eed66485-b4bd-4b32-90b7-aba2c705a1ab"
      },
      "execution_count": null,
      "outputs": [
        {
          "output_type": "stream",
          "name": "stderr",
          "text": [
            "Downloading...\n",
            "From: https://drive.google.com/uc?id=1bimJIVcVPMd1i4u6eGqs1FgdNtG-kbvC\n",
            "To: /content/data.xlsx\n",
            "100%|██████████| 1.04M/1.04M [00:00<00:00, 26.7MB/s]\n",
            "Downloading...\n",
            "From: https://drive.google.com/uc?id=1BasIkcXt4aK5En-5ZlopojXGQiWWNZH7\n",
            "To: /content/data2.xlsx\n",
            "100%|██████████| 1.07M/1.07M [00:00<00:00, 29.9MB/s]\n",
            "Downloading...\n",
            "From: https://drive.google.com/uc?id=1LxKiSEc8pQ8qPXdmIdTl3TbCycW5X1XD\n",
            "To: /content/data3.xlsx\n",
            "100%|██████████| 162k/162k [00:00<00:00, 41.9MB/s]\n",
            "Downloading...\n",
            "From: https://drive.google.com/uc?id=1mdklACzF8Vey-KIEMVpWHw_EB7YPDl9m\n",
            "To: /content/data4.xlsx\n",
            "100%|██████████| 169k/169k [00:00<00:00, 73.2MB/s]\n",
            "Downloading...\n",
            "From: https://drive.google.com/uc?id=14xSUV_qZzPqacybJig3BpFWBgli_1Np8\n",
            "To: /content/data5.xlsx\n",
            "100%|██████████| 254k/254k [00:00<00:00, 69.7MB/s]\n"
          ]
        },
        {
          "output_type": "execute_result",
          "data": {
            "text/plain": [
              "'data5.xlsx'"
            ],
            "application/vnd.google.colaboratory.intrinsic+json": {
              "type": "string"
            }
          },
          "metadata": {},
          "execution_count": 1
        }
      ]
    },
    {
      "cell_type": "markdown",
      "source": [
        " # **Reading and fixing the dataframes**"
      ],
      "metadata": {
        "id": "s45pLrKKtxYG"
      }
    },
    {
      "cell_type": "code",
      "source": [
        "import pandas as pd\n",
        "import numpy as np\n",
        "day_names_hebrew = {'Sunday': 'ראשון', 'Monday': 'שני', 'Tuesday': 'שלישי', 'Wednesday': 'רביעי', 'Thursday': 'חמישי', 'Friday': 'שישי', 'Saturday': 'שבת'}\n",
        "\n",
        "# Read the data sets into a DataFrame\n",
        "df1 = pd.read_excel('data.xlsx')\n",
        "df2 = pd.read_excel('data2.xlsx', header=3, sheet_name=1)\n",
        "df3 = pd.read_excel('data3.xlsx')\n",
        "df4 = pd.read_excel('data4.xlsx')\n",
        "df5 = pd.read_excel('data5.xlsx')\n",
        "\n",
        "# Change date format\n",
        "df3['זמן_סיום_מהמערכת'] = pd.to_datetime(df3['זמן_סיום_מהמערכת'], format='%d-%m-%Y  %H:%M:%S').dt.strftime('%Y-%m-%d')\n",
        "df1['זמן_סיום_מהמערכת'] = pd.to_datetime(df1['זמן_סיום_מהמערכת'], format='%Y-%m-%d %H:%M:%S').dt.strftime('%Y-%m-%d')\n",
        "df4['זמן_סיום_מהמערכת'] = pd.to_datetime(df4['זמן_סיום_מהמערכת'], format='%Y-%m-%d %H:%M:%S').dt.strftime('%Y-%m-%d')\n",
        "df5['זמן_סיום_מהמערכת'] = pd.to_datetime(df5['זמן_סיום_מהמערכת'], format='%d-%m-%Y  %H:%M:%S').dt.strftime('%Y-%m-%d')\n",
        "\n",
        "#Remove duplicated rows (only max value)\n",
        "df3_sorted = df3.sort_values(by='מפלס הפסולת בפח במספר', ascending=False)\n",
        "df3 = df3_sorted.drop_duplicates(subset=['זמן_סיום_מהמערכת', 'time', 'כתובת_תיאור_מיקום_נקודת_המדידה'], keep='first')\n",
        "\n",
        "# Replace values\n",
        "df1['gender'] = df1['gender'].replace({'זכר': 1, 'נקבה': 0})\n",
        "df1['תיאור_חיובי_שלילי'] = df1['תיאור_חיובי_שלילי'].replace({'חיובית': 1, 'שלילית': 0})\n",
        "df1['age'] = df1['age'].replace({'70 ומעלה': '70-90'})\n",
        "df4['מדרכה'] = df4['מדרכה'].replace({'לא רלוונטי': 0, 'סביר': 1, 'לא תקין (מוזנח)': 2, 'תקין (מטופח)': 3})\n",
        "df4['אבנישפה'] = df4['אבנישפה'].replace({'לא רלוונטי': 0, 'סביר': 1, 'לא תקין (מוזנח)': 2, 'תקין (מטופח)': 3})\n",
        "df4['גדרות'] = df4['גדרות'].replace({'לא רלוונטי': 0, 'סביר': 1, 'לא תקין (מוזנח)': 2, 'תקין (מטופח)': 3})\n",
        "df4['צמחייה'] = df4['צמחייה'].replace({'לא רלוונטי': 0, 'סביר': 1, 'לא תקין (מוזנח)': 2, 'תקין (מטופח)': 3})\n",
        "\n",
        "#Fix data (drop nan rows)\n",
        "df3 = df3.dropna(subset=['time', 'נ.צ כתובת', 'זמן_סיום_מהמערכת'])\n",
        "df4 = df4.dropna(subset=['time', 'נ.צ כתובת', 'זמן_סיום_מהמערכת'])\n",
        "df5 = df5.dropna(subset=['time', 'נ.צ כתובת', 'זמן_סיום_מהמערכת'])"
      ],
      "metadata": {
        "id": "Y0lXeU223s1w"
      },
      "execution_count": null,
      "outputs": []
    },
    {
      "cell_type": "markdown",
      "source": [
        " # **Merging**"
      ],
      "metadata": {
        "id": "mK9DyujFuDHz"
      }
    },
    {
      "cell_type": "code",
      "execution_count": null,
      "metadata": {
        "id": "mEvZD89C0wA5",
        "colab": {
          "base_uri": "https://localhost:8080/"
        },
        "outputId": "8c8f1ee0-0603-4c92-c9e8-2bc5d5c6ef1d"
      },
      "outputs": [
        {
          "output_type": "stream",
          "name": "stderr",
          "text": [
            "<ipython-input-3-524cab93c0f4>:2: UserWarning: Could not infer format, so each element will be parsed individually, falling back to `dateutil`. To ensure parsing is consistent and as-expected, please specify a format.\n",
            "  df1.loc[:, 'hour'] = pd.to_datetime(df1['time'].astype(str)).dt.hour\n",
            "<ipython-input-3-524cab93c0f4>:3: UserWarning: Could not infer format, so each element will be parsed individually, falling back to `dateutil`. To ensure parsing is consistent and as-expected, please specify a format.\n",
            "  df3.loc[:, 'hour'] = pd.to_datetime(df3['time'].astype(str)).dt.hour\n",
            "<ipython-input-3-524cab93c0f4>:4: UserWarning: Could not infer format, so each element will be parsed individually, falling back to `dateutil`. To ensure parsing is consistent and as-expected, please specify a format.\n",
            "  df4.loc[:, 'hour'] = pd.to_datetime(df4['time'].astype(str)).dt.hour\n",
            "<ipython-input-3-524cab93c0f4>:4: SettingWithCopyWarning: \n",
            "A value is trying to be set on a copy of a slice from a DataFrame.\n",
            "Try using .loc[row_indexer,col_indexer] = value instead\n",
            "\n",
            "See the caveats in the documentation: https://pandas.pydata.org/pandas-docs/stable/user_guide/indexing.html#returning-a-view-versus-a-copy\n",
            "  df4.loc[:, 'hour'] = pd.to_datetime(df4['time'].astype(str)).dt.hour\n",
            "<ipython-input-3-524cab93c0f4>:5: UserWarning: Could not infer format, so each element will be parsed individually, falling back to `dateutil`. To ensure parsing is consistent and as-expected, please specify a format.\n",
            "  df5.loc[:, 'hour'] = pd.to_datetime(df5['time'].astype(str)).dt.hour\n",
            "<ipython-input-3-524cab93c0f4>:5: SettingWithCopyWarning: \n",
            "A value is trying to be set on a copy of a slice from a DataFrame.\n",
            "Try using .loc[row_indexer,col_indexer] = value instead\n",
            "\n",
            "See the caveats in the documentation: https://pandas.pydata.org/pandas-docs/stable/user_guide/indexing.html#returning-a-view-versus-a-copy\n",
            "  df5.loc[:, 'hour'] = pd.to_datetime(df5['time'].astype(str)).dt.hour\n"
          ]
        }
      ],
      "source": [
        "#Hour column for merging\n",
        "df1.loc[:, 'hour'] = pd.to_datetime(df1['time'].astype(str)).dt.hour\n",
        "df3.loc[:, 'hour'] = pd.to_datetime(df3['time'].astype(str)).dt.hour\n",
        "df4.loc[:, 'hour'] = pd.to_datetime(df4['time'].astype(str)).dt.hour\n",
        "df5.loc[:, 'hour'] = pd.to_datetime(df5['time'].astype(str)).dt.hour\n",
        "\n",
        "# Merge more data\n",
        "temp_1 = pd.merge(df1, df2[['סכום  אוכלוסייה בסוף השנה', 'שטח', 'דירוג חברתי-כלכלי ','מדד סוציואקונומי', 'סמל_יישוב']], on='סמל_יישוב', how='left')\n",
        "temp_2 = pd.merge(temp_1, df4[['מדרכה', 'אבנישפה', 'גדרות', 'צמחייה', 'נ.צ כתובת', 'זמן_סיום_מהמערכת', 'hour']], on=['נ.צ כתובת', 'זמן_סיום_מהמערכת', 'hour'], how='left')\n",
        "#temp_3 = pd.merge(temp_2, df5[['אריזות קרטון','כתמי מסטיק' ,'צואת כלבים' ,'פסולת אורגנית','פלסטיק אחר שקיות פלסטיק ורכיבי פלסטיק שאינם מכלי משקה אריזות מזון ומשקאות' ,'זכוכית לא מכלי משקה או לא ניתן לזיהוי' ,'אריזות של חטיפים' ,'כוסות שתייה חמה חדפ','כוסות שתייה קרה חדפ','סכום חדפ','צלחות חדפ','אריזות מזון Take Away נייר','פקקים של מכלי משקה','מכלי משקה למיניהם','קופסאות סיגריות','מסכות כירורגיות','בדלי סיגריות','סוג_נקודת_המדידה_תשובה', 'זמן_סיום_מהמערכת','נ.צ כתובת']], on=['סוג_נקודת_המדידה_תשובה', 'זמן_סיום_מהמערכת','נ.צ כתובת'], how='left')\n",
        "temp_3 = pd.merge(temp_2, df5[['אריזות קרטון','כתמי מסטיק' ,'צואת כלבים' ,'פסולת אורגנית','פלסטיק אחר שקיות פלסטיק ורכיבי פלסטיק שאינם מכלי משקה אריזות מזון ומשקאות' ,'זכוכית לא מכלי משקה או לא ניתן לזיהוי' ,'אריזות של חטיפים' ,'כוסות שתייה חמה חדפ','כוסות שתייה קרה חדפ','סכום חדפ','צלחות חדפ','אריזות מזון Take Away נייר','פקקים של מכלי משקה','מכלי משקה למיניהם','קופסאות סיגריות','מסכות כירורגיות','בדלי סיגריות','hour', 'זמן_סיום_מהמערכת','נ.צ כתובת']], on=['hour', 'זמן_סיום_מהמערכת','נ.צ כתובת'], how='left')\n",
        "merged_df = pd.merge(temp_3, df3[['מצב הפח','כמה פחים יש בנקודת המדידה', 'מפלס הפסולת בפח במספר', 'נ.צ כתובת', 'זמן_סיום_מהמערכת', 'hour']], on=['נ.צ כתובת', 'זמן_סיום_מהמערכת', 'hour'], how='left')"
      ]
    },
    {
      "cell_type": "markdown",
      "source": [
        " # **Fixing Age and Time columns**"
      ],
      "metadata": {
        "id": "Q095GIWtuW2Y"
      }
    },
    {
      "cell_type": "code",
      "source": [
        "# Change the Age column to values\n",
        "def get_avg(age_range):\n",
        "    if isinstance(age_range, float):\n",
        "        if np.isnan(age_range):\n",
        "            return None\n",
        "        else:\n",
        "            return int(age_range)\n",
        "\n",
        "    elif isinstance(age_range, str):\n",
        "        if age_range not in ['', 'nan']:\n",
        "            nums = [int(x) for x in age_range.split('-')]\n",
        "            return int(np.mean(nums))\n",
        "        else:\n",
        "            return None\n",
        "\n",
        "    else:\n",
        "        return None\n",
        "\n",
        "# Apply the function to the Age column\n",
        "merged_df['age'] = merged_df['age'].astype(str)\n",
        "merged_df['age'] = merged_df['age'].apply(get_avg)\n",
        "\n",
        "# Round the Time column\n",
        "merged_df['time'] = pd.to_datetime(merged_df['time'])\n",
        "def round_time(t):\n",
        "    hour = t.hour\n",
        "    if t.minute >= 30:\n",
        "        hour += 1\n",
        "    return hour\n",
        "\n",
        "merged_df['time'] = merged_df['time'].apply(round_time)"
      ],
      "metadata": {
        "id": "0NoMRQyfuNrh",
        "colab": {
          "base_uri": "https://localhost:8080/"
        },
        "outputId": "9ab0c8da-c5f4-4486-f6c4-c8f078b18d4d"
      },
      "execution_count": null,
      "outputs": [
        {
          "output_type": "stream",
          "name": "stderr",
          "text": [
            "<ipython-input-4-c9a4c7827026>:24: UserWarning: Could not infer format, so each element will be parsed individually, falling back to `dateutil`. To ensure parsing is consistent and as-expected, please specify a format.\n",
            "  merged_df['time'] = pd.to_datetime(merged_df['time'])\n"
          ]
        }
      ]
    },
    {
      "cell_type": "markdown",
      "source": [
        " # **Seperating Date column and turning columns to Dummy vars**"
      ],
      "metadata": {
        "id": "hPx9p-Wqukh7"
      }
    },
    {
      "cell_type": "code",
      "source": [
        "# Seperate the Date column\n",
        "merged_df['זמן_סיום_מהמערכת'] = pd.to_datetime(merged_df['זמן_סיום_מהמערכת'])\n",
        "merged_df['יום'] = merged_df['זמן_סיום_מהמערכת'].dt.day\n",
        "merged_df['חודש'] = merged_df['זמן_סיום_מהמערכת'].dt.month\n",
        "merged_df['יום בשבוע'] = merged_df['זמן_סיום_מהמערכת'].dt.day_name().map(day_names_hebrew)\n",
        "\n",
        "# Change תיאור column to הולך רגל and רכב dummy variables\n",
        "merged_df['הולך רגל'] = 1\n",
        "merged_df['רכב'] = merged_df['תיאור_טקסט'].str.contains('רכב|מכונית|נהג|משאית|אוטו|אופנוע|אופני|קורקינט|נסע', case=False, regex=True)\n",
        "merged_df.loc[merged_df['רכב'] == 1, 'הולך רגל'] = 0\n",
        "merged_df['רכב'] = merged_df['רכב'].fillna(0)\n",
        "merged_df['רכב'] = merged_df['רכב'].astype(int)\n",
        "merged_df['הולך רגל'] = merged_df['הולך רגל'].astype(int)\n",
        "\n",
        "# Change to dummy variables\n",
        "merged_df = merged_df.join(pd.get_dummies(merged_df['סוג_נקודת_המדידה_תשובה'], dtype=int))\n",
        "merged_df = merged_df.join(pd.get_dummies(merged_df['יום בשבוע'], dtype=int))\n",
        "\n",
        "#Change פריט column to dummy variables\n",
        "merged_df['פריט אחר'] = 1\n",
        "\n",
        "merged_df['כוס'] = merged_df['פריט'].str.contains('כוס|ספל', case=False, regex=True)\n",
        "merged_df.loc[merged_df['כוס'] == 1, 'פריט אחר'] = 0\n",
        "merged_df['כוס'] = merged_df['כוס'].fillna(0)\n",
        "merged_df['כוס'] = merged_df['כוס'].astype(int)\n",
        "merged_df['פריט אחר'] = merged_df['פריט אחר'].astype(int)\n",
        "\n",
        "merged_df['שקיות'] = merged_df['פריט'].str.contains('שקי', case=False, regex=True)\n",
        "merged_df.loc[merged_df['שקיות'] == 1, 'פריט אחר'] = 0\n",
        "merged_df['שקיות'] = merged_df['שקיות'].fillna(0)\n",
        "merged_df['שקיות'] = merged_df['שקיות'].astype(int)\n",
        "merged_df['פריט אחר'] = merged_df['פריט אחר'].astype(int)\n",
        "\n",
        "merged_df['אריזות'] = merged_df['פריט'].str.contains('אריז', case=False, regex=True)\n",
        "merged_df.loc[merged_df['אריזות'] == 1, 'פריט אחר'] = 0\n",
        "merged_df['אריזות'] = merged_df['אריזות'].fillna(0)\n",
        "merged_df['אריזות'] = merged_df['אריזות'].astype(int)\n",
        "merged_df['פריט אחר'] = merged_df['פריט אחר'].astype(int)\n",
        "\n",
        "merged_df['סיגריות'] = merged_df['פריט'].str.contains('בדל|סיגר|קופסאת סיגריות|סגריות', case=False, regex=True)\n",
        "merged_df.loc[merged_df['סיגריות'] == 1, 'פריט אחר'] = 0\n",
        "merged_df['סיגריות'] = merged_df['סיגריות'].fillna(0)\n",
        "merged_df['סיגריות'] = merged_df['סיגריות'].astype(int)\n",
        "merged_df['פריט אחר'] = merged_df['פריט אחר'].astype(int)\n",
        "\n",
        "merged_df['בקבוקים'] = merged_df['פריט'].str.contains('בקבוק|פקק', case=False, regex=True)\n",
        "merged_df.loc[merged_df['בקבוקים'] == 1, 'פריט אחר'] = 0\n",
        "merged_df['בקבוקים'] = merged_df['בקבוקים'].fillna(0)\n",
        "merged_df['בקבוקים'] = merged_df['בקבוקים'].astype(int)\n",
        "merged_df['פריט אחר'] = merged_df['פריט אחר'].astype(int)\n",
        "\n",
        "merged_df['צרכים בע\"ח'] = merged_df['פריט'].str.contains('קקי|צואה|כלב|צואת', case=False, regex=True)\n",
        "merged_df.loc[merged_df['צרכים בע\"ח'] == 1, 'פריט אחר'] = 0\n",
        "merged_df['צרכים בע\"ח'] = merged_df['צרכים בע\"ח'].fillna(0)\n",
        "merged_df['צרכים בע\"ח'] = merged_df['צרכים בע\"ח'].astype(int)\n",
        "merged_df['פריט אחר'] = merged_df['פריט אחר'].astype(int)\n",
        "\n",
        "merged_df['פלסטיק'] = merged_df['פריט'].str.contains('צלחת|קש|חד\"פ', case=False, regex=True)\n",
        "merged_df.loc[merged_df['פלסטיק'] == 1, 'פריט אחר'] = 0\n",
        "merged_df['פלסטיק'] = merged_df['פלסטיק'].fillna(0)\n",
        "merged_df['פלסטיק'] = merged_df['פלסטיק'].astype(int)\n",
        "merged_df['פריט אחר'] = merged_df['פריט אחר'].astype(int)\n",
        "\n",
        "merged_df['מסיכות'] = merged_df['פריט'].str.contains('מסיכה|מסכה|מסיכת|מסכת', case=False, regex=True)\n",
        "merged_df.loc[merged_df['מסיכות'] == 1, 'פריט אחר'] = 0\n",
        "merged_df['מסיכות'] = merged_df['מסיכות'].fillna(0)\n",
        "merged_df['מסיכות'] = merged_df['מסיכות'].astype(int)\n",
        "merged_df['פריט אחר'] = merged_df['פריט אחר'].astype(int)\n",
        "\n",
        "merged_df['פחיות'] = merged_df['פריט'].str.contains('פחית', case=False, regex=True)\n",
        "merged_df.loc[merged_df['פחיות'] == 1, 'פריט אחר'] = 0\n",
        "merged_df['פחיות'] = merged_df['פחיות'].fillna(0)\n",
        "merged_df['פחיות'] = merged_df['פחיות'].astype(int)\n",
        "merged_df['פריט אחר'] = merged_df['פריט אחר'].astype(int)\n",
        "\n",
        "merged_df['נייר'] = merged_df['פריט'].str.contains('נייר|קבלה|קבלת', case=False, regex=True)\n",
        "merged_df.loc[merged_df['נייר'] == 1, 'פריט אחר'] = 0\n",
        "merged_df['נייר'] = merged_df['נייר'].fillna(0)\n",
        "merged_df['נייר'] = merged_df['נייר'].astype(int)\n",
        "merged_df['פריט אחר'] = merged_df['פריט אחר'].astype(int)\n",
        "\n",
        "merged_df['עטיפות'] = merged_df['פריט'].str.contains('עטיפה|עטיפת', case=False, regex=True)\n",
        "merged_df.loc[merged_df['עטיפות'] == 1, 'פריט אחר'] = 0\n",
        "merged_df['עטיפות'] = merged_df['עטיפות'].fillna(0)\n",
        "merged_df['עטיפות'] = merged_df['עטיפות'].astype(int)\n",
        "merged_df['פריט אחר'] = merged_df['פריט אחר'].astype(int)\n",
        "\n",
        "# Adding the week before and after\n",
        "merged_df['שבוע לפני'] = merged_df['מצב הפח'].shift(periods=7)\n",
        "merged_df['שבוע אחרי'] = merged_df['מצב הפח'].shift(periods=-7)\n",
        "\n",
        "#if the bin is torn 0 if broken 1\n",
        "merged_df['מצב הפח'] = merged_df['מצב הפח'].replace({'בלוי': 0, 'שבור': 1})"
      ],
      "metadata": {
        "id": "xF_sGCSsujcG"
      },
      "execution_count": null,
      "outputs": []
    },
    {
      "cell_type": "markdown",
      "source": [
        "# **Dropping unnecessary columns and exporting data_clean**"
      ],
      "metadata": {
        "id": "_piLugpRSx-X"
      }
    },
    {
      "cell_type": "code",
      "source": [
        "# Drop columns\n",
        "merged_df = merged_df.drop(['point_type', 'סוג_נקודת_המדידה_תשובה', 'Index1', 'heged1', 'heged2', 'heged3', 'heged4', 'heged5', 'heged6', 'heged7', 'heged8', 'heged9', 'heged10', 'heged11', 'heged12', 'heged13', 'תיאור_טקסט', 'hour', 'יום בשבוע'], axis=1)\n",
        "\n",
        "# Save the modified DataFrame back to a new Excel file\n",
        "merged_df['זמן_סיום_מהמערכת'] = pd.to_datetime(merged_df['זמן_סיום_מהמערכת'], format='%Y-%m-%d %H:%M:%s').dt.strftime('%d-%m-%Y')\n",
        "merged_df.to_excel('data_clean.xlsx', index=False)\n",
        "print(\"data_clean has been created.\")"
      ],
      "metadata": {
        "id": "VXgEzpoe-EjI",
        "colab": {
          "base_uri": "https://localhost:8080/"
        },
        "outputId": "e439a5ff-5da8-41ff-e3ff-1c44c89a96ed"
      },
      "execution_count": null,
      "outputs": [
        {
          "output_type": "stream",
          "name": "stdout",
          "text": [
            "data_clean has been created.\n"
          ]
        }
      ]
    },
    {
      "cell_type": "markdown",
      "source": [
        "# **Making DF only negative reports for stats**"
      ],
      "metadata": {
        "id": "NXFLl05CxKh0"
      }
    },
    {
      "cell_type": "code",
      "source": [
        "df_only_neg = merged_df[merged_df['תיאור_חיובי_שלילי'] == 0]\n",
        "\n",
        "df_only_neg.to_excel('df_only_neg.xlsx', index=False)\n",
        "print(\"data_only_neg has been created.\")"
      ],
      "metadata": {
        "id": "JxwFu4esxILA",
        "colab": {
          "base_uri": "https://localhost:8080/"
        },
        "outputId": "217a7c36-fa15-4515-db47-d532b531702c"
      },
      "execution_count": null,
      "outputs": [
        {
          "output_type": "stream",
          "name": "stdout",
          "text": [
            "data_only_neg has been created.\n"
          ]
        }
      ]
    },
    {
      "cell_type": "markdown",
      "source": [
        "## **Statistical Models**"
      ],
      "metadata": {
        "id": "vIueGvrdWVgj"
      }
    },
    {
      "cell_type": "code",
      "source": [
        "df_only_neg = df_only_neg.dropna(subset=['time'])\n",
        "df_only_neg = df_only_neg.dropna(subset=['age'])"
      ],
      "metadata": {
        "id": "YE7iKIn50zjP"
      },
      "execution_count": null,
      "outputs": []
    },
    {
      "cell_type": "markdown",
      "source": [
        "## **Chi-Square Test**"
      ],
      "metadata": {
        "id": "q3JSndg4du45"
      }
    },
    {
      "cell_type": "markdown",
      "source": [
        "## **Gender**"
      ],
      "metadata": {
        "id": "2LSERq0yKk04"
      }
    },
    {
      "cell_type": "code",
      "source": [
        "#CHI SQUARE ON GENDER\n",
        "from scipy.stats import chi2_contingency\n",
        "\n",
        "men_sum = (df_only_neg['gender'] == 1).sum()\n",
        "women_sum = (df_only_neg['gender'] == 0).sum()\n",
        "print(\"Number of false Men:\", men_sum)\n",
        "print(\"Number of false Women:\", women_sum)\n",
        "print(\"Number of rows in df_only_false:\", df_only_neg.shape[0])\n",
        "\n",
        "temp_gender = [[(0.5035 * df_only_neg.shape[0]), (0.4965 * df_only_neg.shape[0])],\n",
        "               [women_sum, men_sum]]\n",
        "df_gender_false = pd.DataFrame(temp_gender)\n",
        "df_gender_false.columns = ['Female', 'Male']\n",
        "df_gender_false.index = ['Expected', 'Observed']\n",
        "print(df_gender_false)\n",
        "\n",
        "#Perform the chi-square test on Gender\n",
        "chi2_stat, p_val, dof, expected = chi2_contingency(df_gender_false)\n",
        "\n",
        "print(\"\\nChi-square statistic:\", chi2_stat)\n",
        "print(\"P-value:\", p_val)\n",
        "print(\"Degrees of freedom:\", dof)\n",
        "print(\"\\nExpected frequencies:\")\n",
        "print(expected)"
      ],
      "metadata": {
        "colab": {
          "base_uri": "https://localhost:8080/"
        },
        "id": "fTBFaKSXduZD",
        "outputId": "b15ea0ca-4cb5-4501-f0b2-a9d1dc59d878"
      },
      "execution_count": null,
      "outputs": [
        {
          "output_type": "stream",
          "name": "stdout",
          "text": [
            "Number of false Men: 4615\n",
            "Number of false Women: 1528\n",
            "Number of rows in df_only_false: 6143\n",
            "             Female       Male\n",
            "Expected  3093.0005  3049.9995\n",
            "Observed  1528.0000  4615.0000\n",
            "\n",
            "Chi-square statistic: 848.4693132795862\n",
            "P-value: 1.5643762856606654e-186\n",
            "Degrees of freedom: 1\n",
            "\n",
            "Expected frequencies:\n",
            "[[2310.50025 3832.49975]\n",
            " [2310.50025 3832.49975]]\n"
          ]
        }
      ]
    },
    {
      "cell_type": "markdown",
      "source": [
        "## **Age**"
      ],
      "metadata": {
        "id": "aQrStOKSKjBh"
      }
    },
    {
      "cell_type": "code",
      "source": [
        "age_group_0_19 = df_only_neg[(df_only_neg['age'] >= 0) & (df_only_neg['age'] <= 19)]\n",
        "age_group_20_29 = df_only_neg[(df_only_neg['age'] >= 20) & (df_only_neg['age'] <= 29)]\n",
        "age_group_30_plus = df_only_neg[df_only_neg['age'] >= 30]\n",
        "\n",
        "# Create contingency table\n",
        "contingency_table = pd.DataFrame({'Observed': [len(age_group_0_19), len(age_group_20_29), len(age_group_30_plus)]})\n",
        "\n",
        "total = contingency_table['Observed'].sum()\n",
        "contingency_table['Expected'] = total / 3\n",
        "\n",
        "print(\"Contingency Table:\")\n",
        "print(contingency_table)\n",
        "\n",
        "# Perform chi-square test\n",
        "chi2_stat, p_val, dof, expected = chi2_contingency([contingency_table['Observed'], contingency_table['Expected']])\n",
        "\n",
        "print(\"\\nChi-square statistic:\", chi2_stat)\n",
        "print(\"P-value:\", p_val)\n",
        "print(\"Degrees of freedom:\", dof)\n",
        "print(\"\\nExpected frequencies:\")\n",
        "print(expected)"
      ],
      "metadata": {
        "colab": {
          "base_uri": "https://localhost:8080/"
        },
        "id": "avVcDlPzFk3i",
        "outputId": "2134bf1a-b6dc-4078-f62f-d39c757b45ef"
      },
      "execution_count": null,
      "outputs": [
        {
          "output_type": "stream",
          "name": "stdout",
          "text": [
            "Contingency Table:\n",
            "   Observed     Expected\n",
            "0      1964  2047.666667\n",
            "1      1686  2047.666667\n",
            "2      2493  2047.666667\n",
            "\n",
            "Chi-square statistic: 80.45506606923506\n",
            "P-value: 3.383797634497001e-18\n",
            "Degrees of freedom: 2\n",
            "\n",
            "Expected frequencies:\n",
            "[[2005.83333333 1866.83333333 2270.33333333]\n",
            " [2005.83333333 1866.83333333 2270.33333333]]\n"
          ]
        }
      ]
    },
    {
      "cell_type": "markdown",
      "source": [
        "## **Days of the week**"
      ],
      "metadata": {
        "id": "HGbmSICyKekJ"
      }
    },
    {
      "cell_type": "code",
      "source": [
        "sunday = df_only_neg[df_only_neg['ראשון'] == 1]\n",
        "monday = df_only_neg[df_only_neg['שני'] == 1]\n",
        "tuesday = df_only_neg[df_only_neg['שלישי'] == 1]\n",
        "wednesday = df_only_neg[df_only_neg['רביעי'] == 1]\n",
        "thursday = df_only_neg[df_only_neg['חמישי'] == 1]\n",
        "friday = df_only_neg[df_only_neg['שישי'] == 1]\n",
        "saturday = df_only_neg[df_only_neg['שבת'] == 1]\n",
        "\n",
        "# Create a dataframe to store the results\n",
        "contingency_table = pd.DataFrame({'Observed': [len(sunday), len(monday),len(tuesday),len(wednesday),len(thursday),len(friday),len(saturday)]})\n",
        "\n",
        "total = contingency_table['Observed'].sum()\n",
        "contingency_table['Expected'] = total / 7\n",
        "\n",
        "# Display the contingency table\n",
        "print(\"Contingency Table:\")\n",
        "print(contingency_table)\n",
        "\n",
        "# Perform the chi-square test\n",
        "chi2_stat, p_val, dof, expected = chi2_contingency([contingency_table['Observed'], contingency_table['Expected']])\n",
        "\n",
        "print(\"\\nChi-square statistic:\", chi2_stat)\n",
        "print(\"P-value:\", p_val)\n",
        "print(\"Degrees of freedom:\", dof)\n",
        "print(\"\\nExpected frequencies:\")\n",
        "print(expected)"
      ],
      "metadata": {
        "colab": {
          "base_uri": "https://localhost:8080/"
        },
        "id": "8fN9PjmdFkwS",
        "outputId": "9ce7410d-c1c0-4637-c23b-65282a2b8c7a"
      },
      "execution_count": null,
      "outputs": [
        {
          "output_type": "stream",
          "name": "stdout",
          "text": [
            "Contingency Table:\n",
            "   Observed    Expected\n",
            "0       823  877.571429\n",
            "1      1257  877.571429\n",
            "2      1185  877.571429\n",
            "3      1565  877.571429\n",
            "4       984  877.571429\n",
            "5       279  877.571429\n",
            "6        50  877.571429\n",
            "\n",
            "Chi-square statistic: 1362.7074596948269\n",
            "P-value: 2.8762390597922975e-291\n",
            "Degrees of freedom: 6\n",
            "\n",
            "Expected frequencies:\n",
            "[[ 850.28571429 1067.28571429 1031.28571429 1221.28571429  930.78571429\n",
            "   578.28571429  463.78571429]\n",
            " [ 850.28571429 1067.28571429 1031.28571429 1221.28571429  930.78571429\n",
            "   578.28571429  463.78571429]]\n"
          ]
        }
      ]
    },
    {
      "cell_type": "markdown",
      "source": [
        "## **On foot / Car**"
      ],
      "metadata": {
        "id": "qoCZrOMiKZwH"
      }
    },
    {
      "cell_type": "code",
      "source": [
        "onfoot = df_only_neg[df_only_neg['הולך רגל'] == 1]\n",
        "car = df_only_neg[df_only_neg['רכב'] == 1]\n",
        "\n",
        "# Create a dataframe to store the results\n",
        "contingency_table = pd.DataFrame({'Observed': [len(onfoot), len(car)]})\n",
        "\n",
        "total = contingency_table['Observed'].sum()\n",
        "contingency_table['Expected'] = total / 2\n",
        "\n",
        "# Display the contingency table\n",
        "print(\"Contingency Table:\")\n",
        "print(contingency_table)\n",
        "\n",
        "# Perform the chi-square test\n",
        "chi2_stat, p_val, dof, expected = chi2_contingency([contingency_table['Observed'], contingency_table['Expected']])\n",
        "\n",
        "print(\"\\nChi-square statistic:\", chi2_stat)\n",
        "print(\"P-value:\", p_val)\n",
        "print(\"Degrees of freedom:\", dof)\n",
        "print(\"\\nExpected frequencies:\")\n",
        "print(expected)"
      ],
      "metadata": {
        "colab": {
          "base_uri": "https://localhost:8080/"
        },
        "id": "2D3sokzzN6NY",
        "outputId": "caacbe36-8cde-4569-f1f5-74b4a0fdfd0c"
      },
      "execution_count": null,
      "outputs": [
        {
          "output_type": "stream",
          "name": "stdout",
          "text": [
            "Contingency Table:\n",
            "   Observed  Expected\n",
            "0      5661    3071.5\n",
            "1       482    3071.5\n",
            "\n",
            "Chi-square statistic: 2652.845364644342\n",
            "P-value: 0.0\n",
            "Degrees of freedom: 1\n",
            "\n",
            "Expected frequencies:\n",
            "[[4366.25 1776.75]\n",
            " [4366.25 1776.75]]\n"
          ]
        }
      ]
    },
    {
      "cell_type": "markdown",
      "source": [
        "## **Different Areas**"
      ],
      "metadata": {
        "id": "d-vm8-8cKS1Y"
      }
    },
    {
      "cell_type": "code",
      "source": [
        "indus_area = df_only_neg[df_only_neg['אזור תעשייה'] == 1]\n",
        "beach = df_only_neg[df_only_neg['חוף ים'] == 1]\n",
        "public_building = df_only_neg[df_only_neg['מבנה ציבור'] == 1]\n",
        "com_center = df_only_neg[df_only_neg['מרכז מסחרי'] == 1]\n",
        "fun = df_only_neg[df_only_neg['פנאי ונופש'] == 1]\n",
        "res_street = df_only_neg[df_only_neg['רחוב מגורים'] == 1]\n",
        "indus_street = df_only_neg[df_only_neg['רחוב מסחרי'] == 1]\n",
        "\n",
        "# Create a dataframe to store the results\n",
        "contingency_table = pd.DataFrame({'Observed': [len(indus_area), len(beach),len(public_building),len(com_center),len(fun),len(res_street),len(indus_street)]})\n",
        "\n",
        "total = contingency_table['Observed'].sum()\n",
        "contingency_table['Expected'] = total / 7\n",
        "\n",
        "# Display the contingency table\n",
        "print(\"Contingency Table:\")\n",
        "print(contingency_table)\n",
        "\n",
        "# Perform the chi-square test\n",
        "chi2_stat, p_val, dof, expected = chi2_contingency([contingency_table['Observed'], contingency_table['Expected']])\n",
        "\n",
        "print(\"\\nChi-square statistic:\", chi2_stat)\n",
        "print(\"P-value:\", p_val)\n",
        "print(\"Degrees of freedom:\", dof)\n",
        "print(\"\\nExpected frequencies:\")\n",
        "print(expected)"
      ],
      "metadata": {
        "colab": {
          "base_uri": "https://localhost:8080/"
        },
        "id": "AFc34Lw1iKhK",
        "outputId": "de74aa33-410b-4f69-9613-ddb9e1a2f8eb"
      },
      "execution_count": null,
      "outputs": [
        {
          "output_type": "stream",
          "name": "stdout",
          "text": [
            "Contingency Table:\n",
            "   Observed    Expected\n",
            "0       399  877.571429\n",
            "1        66  877.571429\n",
            "2       922  877.571429\n",
            "3       626  877.571429\n",
            "4       891  877.571429\n",
            "5      1970  877.571429\n",
            "6      1269  877.571429\n",
            "\n",
            "Chi-square statistic: 1411.210167028733\n",
            "P-value: 9.055870763780349e-302\n",
            "Degrees of freedom: 6\n",
            "\n",
            "Expected frequencies:\n",
            "[[ 638.28571429  471.78571429  899.78571429  751.78571429  884.28571429\n",
            "  1423.78571429 1073.28571429]\n",
            " [ 638.28571429  471.78571429  899.78571429  751.78571429  884.28571429\n",
            "  1423.78571429 1073.28571429]]\n"
          ]
        }
      ]
    },
    {
      "cell_type": "markdown",
      "source": [
        "# **Correlation**"
      ],
      "metadata": {
        "id": "_MaU0jgcQCMG"
      }
    },
    {
      "cell_type": "markdown",
      "source": [
        "# **Area size**"
      ],
      "metadata": {
        "id": "g8DFoe66iUzc"
      }
    },
    {
      "cell_type": "code",
      "source": [
        "import matplotlib.pyplot as plt\n",
        "import seaborn as sns\n",
        "from scipy.stats import spearmanr\n",
        "\n",
        "new_tmp = pd.DataFrame(df_only_neg)\n",
        "new_tmp = new_tmp[new_tmp['יישוב'] != 'חבל אילות']\n",
        "\n",
        "# Convert the size column to numeric without producing the warning\n",
        "new_tmp.loc[:, 'שטח'] = pd.to_numeric(new_tmp['שטח'], errors='coerce')\n",
        "\n",
        "# Group by city size and count the number of occurrences\n",
        "city_size_counts = new_tmp['שטח'].value_counts().reset_index()\n",
        "city_size_counts.columns = ['שטח', 'מספר התלונות']\n",
        "\n",
        "# Calculate the Pearson correlation coefficient\n",
        "#correlation = city_size_counts['שטח'].corr(city_size_counts['Count'])\n",
        "correlation, p_value = spearmanr(city_size_counts['שטח'], city_size_counts['מספר התלונות'])\n",
        "\n",
        "print(\"Correlation coefficient:\", correlation)\n",
        "print(\"P-value:\", p_value)\n",
        "\n",
        "plt.figure(figsize=(10, 6))\n",
        "sns.regplot(x='שטח', y='מספר התלונות', data=city_size_counts)\n",
        "plt.title('City Size vs Waste Count')\n",
        "plt.xlabel('City Area')\n",
        "plt.ylabel('Waste Count')\n",
        "plt.grid(True)\n",
        "plt.text(0.1, 0.9, f'Correlation coefficient: {correlation:.2f}\\nP-value: {p_value:.2f}',\n",
        "         transform=plt.gca().transAxes)\n",
        "plt.show()"
      ],
      "metadata": {
        "colab": {
          "base_uri": "https://localhost:8080/",
          "height": 596
        },
        "id": "4DZ7TNx5G1WP",
        "outputId": "7dfea6ac-037e-4622-a685-dbc17fa0a2b1"
      },
      "execution_count": null,
      "outputs": [
        {
          "output_type": "stream",
          "name": "stdout",
          "text": [
            "Correlation coefficient: 0.41456244828491684\n",
            "P-value: 0.0003597064431659933\n"
          ]
        },
        {
          "output_type": "display_data",
          "data": {
            "text/plain": [
              "<Figure size 1000x600 with 1 Axes>"
            ],
            "image/png": "[encoded data removed]"
          },
          "metadata": {}
        }
      ]
    },
    {
      "cell_type": "markdown",
      "source": [
        "# **Bins**"
      ],
      "metadata": {
        "id": "0dsq88gEEGcJ"
      }
    },
    {
      "cell_type": "code",
      "source": [
        "new_tmp_2 = pd.DataFrame(df_only_neg)\n",
        "new_tmp_2.dropna(subset=['מפלס הפסולת בפח במספר'], inplace=True)\n",
        "new_tmp_2.dropna(subset=['כמה פחים יש בנקודת המדידה'], inplace=True)\n",
        "\n",
        "# Convert the size column to numeric without producing the warning\n",
        "new_tmp_2.loc[:, 'כמה פחים יש בנקודת המדידה'] = pd.to_numeric(new_tmp_2['כמה פחים יש בנקודת המדידה'], errors='coerce')\n",
        "\n",
        "# Group by city size and count the number of occurrences\n",
        "city_size_counts = new_tmp_2['כמה פחים יש בנקודת המדידה'].value_counts().reset_index()\n",
        "city_size_counts.columns = ['כמה פחים יש בנקודת המדידה', 'מספר התלונות']\n",
        "\n",
        "# Calculate the Pearson correlation coefficient\n",
        "#correlation = city_size_counts['שטח'].corr(city_size_counts['Count'])\n",
        "correlation, p_value = spearmanr(city_size_counts['כמה פחים יש בנקודת המדידה'], city_size_counts['מספר התלונות'])\n",
        "\n",
        "print(\"Correlation coefficient:\", correlation)\n",
        "print(\"P-value:\", p_value)\n",
        "\n",
        "plt.figure(figsize=(10, 6))\n",
        "sns.regplot(x='כמה פחים יש בנקודת המדידה', y='מספר התלונות', data=city_size_counts)\n",
        "plt.title('Number of Bins vs Waste Count')\n",
        "plt.xlabel('Number of Bins')\n",
        "plt.ylabel('Waste Count')\n",
        "plt.grid(True)\n",
        "plt.text(0.1, 0.9, f'Correlation coefficient: {correlation:.2f}\\nP-value: {p_value:.2f}',\n",
        "         transform=plt.gca().transAxes)\n",
        "plt.show()"
      ],
      "metadata": {
        "colab": {
          "base_uri": "https://localhost:8080/",
          "height": 594
        },
        "id": "w3VGNWIGljWV",
        "outputId": "283939d4-902e-4f79-c09e-9f8a64feb96f"
      },
      "execution_count": null,
      "outputs": [
        {
          "output_type": "stream",
          "name": "stdout",
          "text": [
            "Correlation coefficient: -0.913343367482011\n",
            "P-value: 1.2944516794554623e-05\n"
          ]
        },
        {
          "output_type": "display_data",
          "data": {
            "text/plain": [
              "<Figure size 1000x600 with 1 Axes>"
            ],
            "image/png": "[encoded data removed]"
          },
          "metadata": {}
        }
      ]
    },
    {
      "cell_type": "code",
      "source": [
        "# Convert the size column to numeric without producing the warning\n",
        "new_tmp_2.loc[:, 'מפלס הפסולת בפח במספר'] = pd.to_numeric(new_tmp_2['מפלס הפסולת בפח במספר'], errors='coerce')\n",
        "\n",
        "# Group by city size and count the number of occurrences\n",
        "city_size_counts = new_tmp_2['מפלס הפסולת בפח במספר'].value_counts().reset_index()\n",
        "city_size_counts.columns = ['מפלס הפסולת בפח במספר', 'מספר התלונות']\n",
        "\n",
        "# Calculate the Pearson correlation coefficient\n",
        "#correlation = city_size_counts['שטח'].corr(city_size_counts['Count'])\n",
        "correlation, p_value = spearmanr(city_size_counts['מפלס הפסולת בפח במספר'], city_size_counts['מספר התלונות'])\n",
        "\n",
        "print(\"Correlation coefficient:\", correlation)\n",
        "print(\"P-value:\", p_value)\n",
        "\n",
        "plt.figure(figsize=(10, 6))\n",
        "sns.regplot(x='מפלס הפסולת בפח במספר', y='מספר התלונות', data=city_size_counts)\n",
        "plt.title('Waste level of Bins vs Waste Count')\n",
        "plt.xlabel('Waste level of Bins')\n",
        "plt.ylabel('Waste Count')\n",
        "plt.grid(True)\n",
        "plt.text(0.1, 0.9, f'Correlation coefficient: {correlation:.2f}\\nP-value: {p_value:.2f}',\n",
        "         transform=plt.gca().transAxes)\n",
        "plt.show()"
      ],
      "metadata": {
        "colab": {
          "base_uri": "https://localhost:8080/",
          "height": 599
        },
        "id": "sZPoCLJYn5k4",
        "outputId": "df6d45c9-25e2-4f94-c522-d1fe8e9bfc58"
      },
      "execution_count": null,
      "outputs": [
        {
          "output_type": "stream",
          "name": "stdout",
          "text": [
            "Correlation coefficient: 0.7\n",
            "P-value: 0.1881204043741873\n"
          ]
        },
        {
          "output_type": "display_data",
          "data": {
            "text/plain": [
              "<Figure size 1000x600 with 1 Axes>"
            ],
            "image/png": "[encoded data removed]"
          },
          "metadata": {}
        }
      ]
    },
    {
      "cell_type": "markdown",
      "source": [
        "# **Changing DF for the model**"
      ],
      "metadata": {
        "id": "VuUbWQF6HHV8"
      }
    },
    {
      "cell_type": "code",
      "source": [
        "# Combine date, time, and address into a single ID column\n",
        "df_only_neg['זמן_סיום_מהמערכת'] = df_only_neg['זמן_סיום_מהמערכת'].astype(str)\n",
        "df_only_neg['time'] = df_only_neg['time'].astype(str)\n",
        "df_only_neg['נ.צ כתובת'] = df_only_neg['נ.צ כתובת'].astype(str)\n",
        "df_only_neg['סמל_יישוב'] = df_only_neg['סמל_יישוב'].astype(str)\n",
        "\n",
        "df_only_neg['id'] = 'Date: ' + df_only_neg['זמן_סיום_מהמערכת'] + ' Time: ' + df_only_neg['time'] + ' Coordinates: ' + df_only_neg['נ.צ כתובת'] + ' City code: ' + df_only_neg['סמל_יישוב'] + ' Street: ' + df_only_neg['כתובת_תיאור_מיקום_נקודת_המדידה']\n",
        "\n",
        "# Group by the ID and aggregate the counts\n",
        "model_df = df_only_neg.groupby('id').agg({\n",
        "    'זמן_סיום_מהמערכת': 'first',\n",
        "    'time': 'first',\n",
        "    'נ.צ כתובת': 'first',\n",
        "    'סכום  אוכלוסייה בסוף השנה': 'first',\n",
        "    'שטח': 'first',\n",
        "    'דירוג חברתי-כלכלי ': 'first',\n",
        "    'מדד סוציואקונומי': 'first',\n",
        "    'כתובת_תיאור_מיקום_נקודת_המדידה': 'first',\n",
        "    'מדרכה': 'first', 'אבנישפה': 'first', 'גדרות': 'first', 'צמחייה': 'first',\n",
        "    'מצב הפח': 'first',\n",
        "    'אריזות קרטון': 'first', 'כתמי מסטיק': 'first', 'צואת כלבים': 'first', 'פסולת אורגנית': 'first', 'פלסטיק אחר שקיות פלסטיק ורכיבי פלסטיק שאינם מכלי משקה אריזות מזון ומשקאות': 'first', 'זכוכית לא מכלי משקה או לא ניתן לזיהוי': 'first', 'אריזות של חטיפים': 'first', 'כוסות שתייה חמה חדפ': 'first', 'כוסות שתייה קרה חדפ': 'first', 'סכום חדפ': 'first', 'צלחות חדפ': 'first', 'אריזות מזון Take Away נייר': 'first', 'פקקים של מכלי משקה': 'first', 'מכלי משקה למיניהם': 'first', 'קופסאות סיגריות': 'first', 'מסכות כירורגיות': 'first', 'בדלי סיגריות': 'first',\n",
        "    'כמה פחים יש בנקודת המדידה': 'first',\n",
        "    'מפלס הפסולת בפח במספר': 'first',\n",
        "    'חודש': 'first',\n",
        "    'אזור תעשייה': 'first', 'חוף ים': 'first', 'מבנה ציבור': 'first', 'מרכז מסחרי': 'first', 'פנאי ונופש': 'first', 'רחוב מגורים': 'first', 'רחוב מסחרי': 'first',\n",
        "    'ראשון': 'first', 'שני': 'first', 'שלישי': 'first', 'רביעי': 'first', 'חמישי': 'first', 'שישי': 'first', 'שבת': 'first',\n",
        "    'פריט אחר': 'sum', 'כוס': 'sum', 'שקיות': 'sum', 'אריזות': 'sum', 'סיגריות': 'sum', 'בקבוקים': 'sum', 'צרכים בע\"ח': 'sum', 'פלסטיק': 'sum', 'מסיכות': 'sum', 'פחיות': 'sum', 'נייר': 'sum', 'עטיפות': 'sum',\n",
        "    'רכב': 'sum', 'הולך רגל': 'sum',\n",
        "    'תיאור_חיובי_שלילי': 'count'  # Count the number of reports\n",
        "}).rename(columns={'תיאור_חיובי_שלילי': 'num_of_reports'}).reset_index()"
      ],
      "metadata": {
        "id": "WJ1X_7y34Z9_"
      },
      "execution_count": null,
      "outputs": []
    },
    {
      "cell_type": "markdown",
      "source": [
        "# **Changing Time and Month to dummy vars**"
      ],
      "metadata": {
        "id": "1e33nKETQHok"
      }
    },
    {
      "cell_type": "code",
      "source": [
        "#Change time and month columns dummy vars\n",
        "model_df = model_df.join(pd.get_dummies(model_df['חודש'], dtype=int, prefix='month'))\n",
        "model_df = model_df.join(pd.get_dummies(model_df['time'], dtype=int,prefix='time'))\n",
        "\n",
        "#Drop the original columns\n",
        "model_df = model_df.drop(['חודש', 'time'], axis=1)"
      ],
      "metadata": {
        "id": "_gkD9g7_QGyH"
      },
      "execution_count": null,
      "outputs": []
    },
    {
      "cell_type": "markdown",
      "source": [
        "# **Min-Max Scaling**"
      ],
      "metadata": {
        "id": "Tc7zRKe9S6Rm"
      }
    },
    {
      "cell_type": "code",
      "source": [
        "#שטח\n",
        "model_df['שטח'] = pd.to_numeric(model_df['שטח'], errors='coerce')\n",
        "model_df['שטח'] = (model_df['שטח'] - model_df['שטח'].min()) / (model_df['שטח'].max() - model_df['שטח'].min())\n",
        "\n",
        "#דירוג חברתי כלכלי\n",
        "model_df['דירוג חברתי-כלכלי '] = pd.to_numeric(model_df['דירוג חברתי-כלכלי '], errors='coerce')\n",
        "model_df['דירוג חברתי-כלכלי '] = (model_df['דירוג חברתי-כלכלי '] - model_df['דירוג חברתי-כלכלי '].min()) / (model_df['דירוג חברתי-כלכלי '].max() - model_df['דירוג חברתי-כלכלי '].min())\n",
        "\n",
        "#סכום אוכלוסיה\n",
        "model_df['סכום  אוכלוסייה בסוף השנה'] = pd.to_numeric(model_df['סכום  אוכלוסייה בסוף השנה'], errors='coerce')\n",
        "model_df['סכום  אוכלוסייה בסוף השנה'] = (model_df['סכום  אוכלוסייה בסוף השנה'] - model_df['סכום  אוכלוסייה בסוף השנה'].min()) / (model_df['סכום  אוכלוסייה בסוף השנה'].max() - model_df['סכום  אוכלוסייה בסוף השנה'].min())\n",
        "\n",
        "#אריזות קרטון\n",
        "model_df['אריזות קרטון'] = pd.to_numeric(model_df['אריזות קרטון'], errors='coerce')\n",
        "model_df['אריזות קרטון'] = (model_df['אריזות קרטון'] - model_df['אריזות קרטון'].min()) / (model_df['אריזות קרטון'].max() - model_df['אריזות קרטון'].min())\n",
        "\n",
        "#כתמי מסטיק\n",
        "model_df['כתמי מסטיק'] = pd.to_numeric(model_df['כתמי מסטיק'], errors='coerce')\n",
        "model_df['כתמי מסטיק'] = (model_df['כתמי מסטיק'] - model_df['כתמי מסטיק'].min()) / (model_df['כתמי מסטיק'].max() - model_df['כתמי מסטיק'].min())\n",
        "\n",
        "#צואת כלבים\n",
        "model_df['צואת כלבים'] = pd.to_numeric(model_df['צואת כלבים'], errors='coerce')\n",
        "model_df['צואת כלבים'] = (model_df['צואת כלבים'] - model_df['צואת כלבים'].min()) / (model_df['צואת כלבים'].max() - model_df['צואת כלבים'].min())\n",
        "\n",
        "#פסולת אורגנית\n",
        "model_df['פסולת אורגנית'] = pd.to_numeric(model_df['פסולת אורגנית'], errors='coerce')\n",
        "model_df['פסולת אורגנית'] = (model_df['פסולת אורגנית'] - model_df['פסולת אורגנית'].min()) / (model_df['פסולת אורגנית'].max() - model_df['פסולת אורגנית'].min())\n",
        "\n",
        "#פלסטיק אחר שקיות פלסטיק ורכיבי פלסטיק שאינם מכלי משקה אריזות מזון ומשקאות\n",
        "model_df['פלסטיק אחר שקיות פלסטיק ורכיבי פלסטיק שאינם מכלי משקה אריזות מזון ומשקאות'] = pd.to_numeric(model_df['פלסטיק אחר שקיות פלסטיק ורכיבי פלסטיק שאינם מכלי משקה אריזות מזון ומשקאות'], errors='coerce')\n",
        "model_df['פלסטיק אחר שקיות פלסטיק ורכיבי פלסטיק שאינם מכלי משקה אריזות מזון ומשקאות'] = (model_df['פלסטיק אחר שקיות פלסטיק ורכיבי פלסטיק שאינם מכלי משקה אריזות מזון ומשקאות'] - model_df['פלסטיק אחר שקיות פלסטיק ורכיבי פלסטיק שאינם מכלי משקה אריזות מזון ומשקאות'].min()) / (model_df['פלסטיק אחר שקיות פלסטיק ורכיבי פלסטיק שאינם מכלי משקה אריזות מזון ומשקאות'].max() - model_df['פלסטיק אחר שקיות פלסטיק ורכיבי פלסטיק שאינם מכלי משקה אריזות מזון ומשקאות'].min())\n",
        "\n",
        "#זכוכית לא מכלי משקה או לא ניתן לזיהוי\n",
        "model_df['זכוכית לא מכלי משקה או לא ניתן לזיהוי'] = pd.to_numeric(model_df['זכוכית לא מכלי משקה או לא ניתן לזיהוי'], errors='coerce')\n",
        "model_df['זכוכית לא מכלי משקה או לא ניתן לזיהוי'] = (model_df['זכוכית לא מכלי משקה או לא ניתן לזיהוי'] - model_df['זכוכית לא מכלי משקה או לא ניתן לזיהוי'].min()) / (model_df['זכוכית לא מכלי משקה או לא ניתן לזיהוי'].max() - model_df['זכוכית לא מכלי משקה או לא ניתן לזיהוי'].min())\n",
        "\n",
        "#אריזות של חטיפים\n",
        "model_df['אריזות של חטיפים'] = pd.to_numeric(model_df['אריזות של חטיפים'], errors='coerce')\n",
        "model_df['אריזות של חטיפים'] = (model_df['אריזות של חטיפים'] - model_df['אריזות של חטיפים'].min()) / (model_df['אריזות של חטיפים'].max() - model_df['אריזות של חטיפים'].min())\n",
        "\n",
        "#כוסות שתייה חמה חדפ\n",
        "model_df['כוסות שתייה חמה חדפ'] = pd.to_numeric(model_df['כוסות שתייה חמה חדפ'], errors='coerce')\n",
        "model_df['כוסות שתייה חמה חדפ'] = (model_df['כוסות שתייה חמה חדפ'] - model_df['כוסות שתייה חמה חדפ'].min()) / (model_df['כוסות שתייה חמה חדפ'].max() - model_df['כוסות שתייה חמה חדפ'].min())\n",
        "\n",
        "#כוסות שתייה קרה חדפ\n",
        "model_df['כוסות שתייה קרה חדפ'] = pd.to_numeric(model_df['כוסות שתייה קרה חדפ'], errors='coerce')\n",
        "model_df['כוסות שתייה קרה חדפ'] = (model_df['כוסות שתייה קרה חדפ'] - model_df['כוסות שתייה קרה חדפ'].min()) / (model_df['כוסות שתייה קרה חדפ'].max() - model_df['כוסות שתייה קרה חדפ'].min())\n",
        "\n",
        "#סכום חדפ\n",
        "model_df['סכום חדפ'] = pd.to_numeric(model_df['סכום חדפ'], errors='coerce')\n",
        "model_df['סכום חדפ'] = (model_df['סכום חדפ'] - model_df['סכום חדפ'].min()) / (model_df['סכום חדפ'].max() - model_df['סכום חדפ'].min())\n",
        "\n",
        "#צלחות חדפ\n",
        "model_df['צלחות חדפ'] = pd.to_numeric(model_df['צלחות חדפ'], errors='coerce')\n",
        "model_df['צלחות חדפ'] = (model_df['צלחות חדפ'] - model_df['צלחות חדפ'].min()) / (model_df['צלחות חדפ'].max() - model_df['צלחות חדפ'].min())\n",
        "\n",
        "#אריזות מזון Take Away נייר\n",
        "model_df['אריזות מזון Take Away נייר'] = pd.to_numeric(model_df['אריזות מזון Take Away נייר'], errors='coerce')\n",
        "model_df['אריזות מזון Take Away נייר'] = (model_df['אריזות מזון Take Away נייר'] - model_df['אריזות מזון Take Away נייר'].min()) / (model_df['אריזות מזון Take Away נייר'].max() - model_df['אריזות מזון Take Away נייר'].min())\n",
        "\n",
        "#פקקים של מכלי משקה\n",
        "model_df['פקקים של מכלי משקה'] = pd.to_numeric(model_df['פקקים של מכלי משקה'], errors='coerce')\n",
        "model_df['פקקים של מכלי משקה'] = (model_df['פקקים של מכלי משקה'] - model_df['פקקים של מכלי משקה'].min()) / (model_df['פקקים של מכלי משקה'].max() - model_df['פקקים של מכלי משקה'].min())\n",
        "\n",
        "#מכלי משקה למיניהם\n",
        "model_df['מכלי משקה למיניהם'] = pd.to_numeric(model_df['מכלי משקה למיניהם'], errors='coerce')\n",
        "model_df['מכלי משקה למיניהם'] = (model_df['מכלי משקה למיניהם'] - model_df['מכלי משקה למיניהם'].min()) / (model_df['מכלי משקה למיניהם'].max() - model_df['מכלי משקה למיניהם'].min())\n",
        "\n",
        "#קופסאות סיגריות\n",
        "model_df['קופסאות סיגריות'] = pd.to_numeric(model_df['קופסאות סיגריות'], errors='coerce')\n",
        "model_df['קופסאות סיגריות'] = (model_df['קופסאות סיגריות'] - model_df['קופסאות סיגריות'].min()) / (model_df['קופסאות סיגריות'].max() - model_df['קופסאות סיגריות'].min())\n",
        "\n",
        "#מסכות כירורגיות\n",
        "model_df['מסכות כירורגיות'] = pd.to_numeric(model_df['מסכות כירורגיות'], errors='coerce')\n",
        "model_df['מסכות כירורגיות'] = (model_df['מסכות כירורגיות'] - model_df['מסכות כירורגיות'].min()) / (model_df['מסכות כירורגיות'].max() - model_df['מסכות כירורגיות'].min())\n",
        "\n",
        "#בדלי סיגריות\n",
        "model_df['בדלי סיגריות'] = pd.to_numeric(model_df['בדלי סיגריות'], errors='coerce')\n",
        "model_df['בדלי סיגריות'] = (model_df['בדלי סיגריות'] - model_df['בדלי סיגריות'].min()) / (model_df['בדלי סיגריות'].max() - model_df['בדלי סיגריות'].min())\n",
        "\n",
        "#כמה פחים יש בנקודת המדידה\n",
        "model_df['כמה פחים יש בנקודת המדידה'] = pd.to_numeric(model_df['כמה פחים יש בנקודת המדידה'], errors='coerce')\n",
        "model_df['כמה פחים יש בנקודת המדידה'] = (model_df['כמה פחים יש בנקודת המדידה'] - model_df['כמה פחים יש בנקודת המדידה'].min()) / (model_df['כמה פחים יש בנקודת המדידה'].max() - model_df['כמה פחים יש בנקודת המדידה'].min())\n",
        "\n",
        "model_df.to_excel('model_df.xlsx', index=False)\n",
        "print(\"model_df has been created.\")"
      ],
      "metadata": {
        "id": "WSjxi1wqSKJv",
        "colab": {
          "base_uri": "https://localhost:8080/"
        },
        "outputId": "6903486e-bf5e-453f-cd40-84d8466d6f8d"
      },
      "execution_count": null,
      "outputs": [
        {
          "output_type": "stream",
          "name": "stdout",
          "text": [
            "model_df has been created.\n"
          ]
        }
      ]
    },
    {
      "cell_type": "markdown",
      "source": [
        "# **No nan rows / No nan columns DFs for the model**"
      ],
      "metadata": {
        "id": "Xg3YgudKabM2"
      }
    },
    {
      "cell_type": "code",
      "source": [
        "# Split נ.צ כתובת into latitude and longitude\n",
        "model_df[['latitude', 'longitude']] = model_df['נ.צ כתובת'].str.split(',', expand=True).astype(float)\n",
        "model_df = model_df.drop(columns=['נ.צ כתובת'])\n",
        "\n",
        "# Remove columns with any NaN values\n",
        "model_df_noNanColumns = model_df.dropna(axis=1)\n",
        "\n",
        "# Remove rows with any NaN values\n",
        "model_df_noNanRows = model_df.dropna(axis=0)\n",
        "\n",
        "model_df_noNanColumns.to_excel('model_df_noNanColumns.xlsx', index=False)\n",
        "model_df_noNanRows.to_excel('model_df_noNanRows.xlsx', index=False)"
      ],
      "metadata": {
        "id": "aF5D7-4CZnhf"
      },
      "execution_count": null,
      "outputs": []
    },
    {
      "cell_type": "markdown",
      "source": [
        "# **No NAN Columns - LinearRegression / Random Forest / XGBoost models (num_of_reports)**"
      ],
      "metadata": {
        "id": "GMq0aD9Yvu6H"
      }
    },
    {
      "cell_type": "code",
      "source": [
        "from sklearn.model_selection import GridSearchCV, train_test_split, cross_val_score\n",
        "from sklearn.linear_model import LinearRegression, Ridge\n",
        "from sklearn.ensemble import RandomForestRegressor\n",
        "from xgboost import XGBRegressor\n",
        "from sklearn.metrics import mean_squared_error, r2_score\n",
        "import datetime as dt\n",
        "from sklearn.preprocessing import StandardScaler"
      ],
      "metadata": {
        "id": "Sa7MGQnlxHxH"
      },
      "execution_count": null,
      "outputs": []
    },
    {
      "cell_type": "code",
      "source": [
        "#TARGET = num_of_reports\n",
        "\n",
        "# Define features and target\n",
        "X = model_df_noNanColumns.drop(columns=['num_of_reports', 'id', 'מדד סוציואקונומי', 'כתובת_תיאור_מיקום_נקודת_המדידה', 'זמן_סיום_מהמערכת', 'פריט אחר', 'כוס', 'שקיות', 'אריזות', 'סיגריות', 'בקבוקים', 'צרכים בע\"ח', 'פלסטיק', 'מסיכות', 'פחיות', 'נייר', 'עטיפות', 'רכב', 'הולך רגל'])\n",
        "y = model_df_noNanColumns['num_of_reports']\n",
        "\n",
        "# Split the data into training and testing sets\n",
        "X_train, X_test, y_train, y_test = train_test_split(X, y, test_size=0.3, train_size=0.7, random_state=42)\n",
        "\n",
        "# Linear Regression\n",
        "lin_reg = LinearRegression()\n",
        "lin_reg.fit(X_train, y_train)\n",
        "y_train_pred_lin = lin_reg.predict(X_train)\n",
        "y_test_pred_lin = lin_reg.predict(X_test)\n",
        "\n",
        "# Calculate metrics for Linear Regression\n",
        "r2_train_lin = r2_score(y_train, y_train_pred_lin)\n",
        "r2_test_lin = r2_score(y_test, y_test_pred_lin)\n",
        "rmse_train_lin = np.sqrt(mean_squared_error(y_train, y_train_pred_lin))\n",
        "rmse_test_lin = np.sqrt(mean_squared_error(y_test, y_test_pred_lin))\n",
        "std_dev_lin = np.std(y_test_pred_lin)\n",
        "\n",
        "print(f'NO NAN COLUMNS\\nTARGET = NUM_OF_REPORTS\\n')\n",
        "print(f'Linear Regression R² (Train): {r2_train_lin}')\n",
        "print(f'Linear Regression R² (Test): {r2_test_lin}')\n",
        "print(f'Linear Regression RMSE (Train): {rmse_train_lin}')\n",
        "print(f'Linear Regression RMSE (Test): {rmse_test_lin}')\n",
        "print(f'Linear Regression Std Dev (Test Predictions): {std_dev_lin}\\n')\n",
        "\n",
        "# Random Forest Regression\n",
        "rf_reg = RandomForestRegressor(n_estimators=100, random_state=42)\n",
        "rf_reg.fit(X_train, y_train)\n",
        "y_train_pred_rf = rf_reg.predict(X_train)\n",
        "y_test_pred_rf = rf_reg.predict(X_test)\n",
        "\n",
        "# Calculate metrics for Random Forest Regression\n",
        "r2_train_rf = r2_score(y_train, y_train_pred_rf)\n",
        "r2_test_rf = r2_score(y_test, y_test_pred_rf)\n",
        "rmse_train_rf = np.sqrt(mean_squared_error(y_train, y_train_pred_rf))\n",
        "rmse_test_rf = np.sqrt(mean_squared_error(y_test, y_test_pred_rf))\n",
        "std_dev_rf = np.std(y_test_pred_rf)\n",
        "\n",
        "print(f'Random Forest Regression R² (Train): {r2_train_rf}')\n",
        "print(f'Random Forest Regression R² (Test): {r2_test_rf}')\n",
        "print(f'Random Forest Regression RMSE (Train): {rmse_train_rf}')\n",
        "print(f'Random Forest Regression RMSE (Test): {rmse_test_rf}')\n",
        "print(f'Random Forest Regression Std Dev (Test Predictions): {std_dev_rf}\\n')\n",
        "\n",
        "# XGBoost Regression\n",
        "xgb_reg = XGBRegressor(n_estimators=100, random_state=42)\n",
        "xgb_reg.fit(X_train, y_train)\n",
        "y_train_pred_xgb = xgb_reg.predict(X_train)\n",
        "y_test_pred_xgb = xgb_reg.predict(X_test)\n",
        "\n",
        "# Calculate metrics for XGBoost Regression\n",
        "r2_train_xgb = r2_score(y_train, y_train_pred_xgb)\n",
        "r2_test_xgb = r2_score(y_test, y_test_pred_xgb)\n",
        "rmse_train_xgb = np.sqrt(mean_squared_error(y_train, y_train_pred_xgb))\n",
        "rmse_test_xgb = np.sqrt(mean_squared_error(y_test, y_test_pred_xgb))\n",
        "std_dev_xgb = np.std(y_test_pred_xgb)\n",
        "\n",
        "print(f'XGBoost Regression R² (Train): {r2_train_xgb}')\n",
        "print(f'XGBoost Regression R² (Test): {r2_test_xgb}')\n",
        "print(f'XGBoost Regression RMSE (Train): {rmse_train_xgb}')\n",
        "print(f'XGBoost Regression RMSE (Test): {rmse_test_xgb}')\n",
        "print(f'XGBoost Regression Std Dev (Test Predictions): {std_dev_xgb}')\n",
        "\n",
        "X.to_excel('model_df_noNanColumns_afterDrop.xlsx', index=False)"
      ],
      "metadata": {
        "id": "ifRoTU-QvQOJ",
        "colab": {
          "base_uri": "https://localhost:8080/"
        },
        "outputId": "4a76a55e-6cfd-48c0-fb16-84dc5f58df1c"
      },
      "execution_count": null,
      "outputs": [
        {
          "output_type": "stream",
          "name": "stdout",
          "text": [
            "NO NAN COLUMNS\n",
            "TARGET = NUM_OF_REPORTS\n",
            "\n",
            "Linear Regression R² (Train): 0.11738813300825546\n",
            "Linear Regression R² (Test): 0.046059036829639965\n",
            "Linear Regression RMSE (Train): 2.385816341521922\n",
            "Linear Regression RMSE (Test): 2.5349280524926407\n",
            "Linear Regression Std Dev (Test Predictions): 0.827578594666032\n",
            "\n",
            "Random Forest Regression R² (Train): 0.8277799212255208\n",
            "Random Forest Regression R² (Test): 0.19986329616630416\n",
            "Random Forest Regression RMSE (Train): 1.0538869323494873\n",
            "Random Forest Regression RMSE (Test): 2.321597806626867\n",
            "Random Forest Regression Std Dev (Test Predictions): 1.5954862927155236\n",
            "\n",
            "XGBoost Regression R² (Train): 0.8434845455722013\n",
            "XGBoost Regression R² (Test): 0.12140712115427965\n",
            "XGBoost Regression RMSE (Train): 1.0046869032702719\n",
            "XGBoost Regression RMSE (Test): 2.4327569830373874\n",
            "XGBoost Regression Std Dev (Test Predictions): 1.8272895812988281\n"
          ]
        }
      ]
    },
    {
      "cell_type": "code",
      "source": [
        "from sklearn.model_selection import GridSearchCV\n",
        "\n",
        "# Define the parameter grid for GridSearch\n",
        "param_grid = {\n",
        "    'n_estimators': [100, 200, 300, 500],          # Number of trees in the forest\n",
        "    'max_depth': [None, 10, 20, 30],               # Maximum depth of the tree\n",
        "    'min_samples_split': [2, 5, 10],               # Minimum number of samples required to split an internal node\n",
        "    'min_samples_leaf': [1, 2, 4],                 # Minimum number of samples required to be at a leaf node\n",
        "    'max_features': ['auto', 'sqrt', 'log2'],      # Number of features to consider when looking for the best split\n",
        "    'bootstrap': [True, False]                     # Whether bootstrap samples are used when building trees\n",
        "}\n",
        "\n",
        "# Initialize the Random Forest Regressor\n",
        "rf_reg = RandomForestRegressor(random_state=42)\n",
        "\n",
        "# Initialize GridSearchCV\n",
        "grid_search = GridSearchCV(estimator=rf_reg, param_grid=param_grid,\n",
        "                           cv=5, n_jobs=-1, verbose=2, scoring='r2')\n",
        "\n",
        "# Fit the GridSearchCV to the data\n",
        "grid_search.fit(X_train, y_train)\n",
        "\n",
        "# Get the best parameters and the best score\n",
        "best_params = grid_search.best_params_\n",
        "best_score = grid_search.best_score_\n",
        "\n",
        "print(f\"Best Parameters: {best_params}\")\n",
        "print(f\"Best Cross-Validation R² Score: {best_score}\")\n",
        "\n",
        "# Use the best model to predict\n",
        "best_rf_model = grid_search.best_estimator_\n",
        "\n",
        "# Predictions\n",
        "y_train_pred_best_rf = best_rf_model.predict(X_train)\n",
        "y_test_pred_best_rf = best_rf_model.predict(X_test)\n",
        "\n",
        "# Calculate the metrics for the best Random Forest model (Train)\n",
        "r2_train_best_rf = r2_score(y_train, y_train_pred_best_rf)\n",
        "rmse_train_best_rf = np.sqrt(mean_squared_error(y_train, y_train_pred_best_rf))\n",
        "\n",
        "# Calculate the metrics for the best Random Forest model (Test)\n",
        "r2_test_best_rf = r2_score(y_test, y_test_pred_best_rf)\n",
        "rmse_test_best_rf = np.sqrt(mean_squared_error(y_test, y_test_pred_best_rf))\n",
        "std_dev_best_rf = np.std(y_test_pred_best_rf)\n",
        "\n",
        "# Output the results\n",
        "print(f\"Random Forest Regression R² (Train): {r2_train_best_rf}\")\n",
        "print(f\"Random Forest Regression RMSE (Train): {rmse_train_best_rf}\")\n",
        "print(f\"Random Forest Regression R² (Test): {r2_test_best_rf}\")\n",
        "print(f\"Random Forest Regression RMSE (Test): {rmse_test_best_rf}\")\n",
        "print(f\"Random Forest Regression Std Dev (Test Predictions): {std_dev_best_rf}\")"
      ],
      "metadata": {
        "colab": {
          "base_uri": "https://localhost:8080/"
        },
        "id": "9aM8964PAqmM",
        "outputId": "ad629b3c-6b8c-4621-9ad6-4e617b0e60b0"
      },
      "execution_count": null,
      "outputs": [
        {
          "output_type": "stream",
          "name": "stdout",
          "text": [
            "Fitting 5 folds for each of 864 candidates, totalling 4320 fits\n"
          ]
        },
        {
          "output_type": "stream",
          "name": "stderr",
          "text": [
            "/usr/local/lib/python3.10/dist-packages/joblib/externals/loky/process_executor.py:752: UserWarning: A worker stopped while some jobs were given to the executor. This can be caused by a too short worker timeout or by a memory leak.\n",
            "  warnings.warn(\n",
            "/usr/local/lib/python3.10/dist-packages/sklearn/model_selection/_validation.py:425: FitFailedWarning: \n",
            "1440 fits failed out of a total of 4320.\n",
            "The score on these train-test partitions for these parameters will be set to nan.\n",
            "If these failures are not expected, you can try to debug them by setting error_score='raise'.\n",
            "\n",
            "Below are more details about the failures:\n",
            "--------------------------------------------------------------------------------\n",
            "1440 fits failed with the following error:\n",
            "Traceback (most recent call last):\n",
            "  File \"/usr/local/lib/python3.10/dist-packages/sklearn/model_selection/_validation.py\", line 729, in _fit_and_score\n",
            "    estimator.fit(X_train, y_train, **fit_params)\n",
            "  File \"/usr/local/lib/python3.10/dist-packages/sklearn/base.py\", line 1145, in wrapper\n",
            "    estimator._validate_params()\n",
            "  File \"/usr/local/lib/python3.10/dist-packages/sklearn/base.py\", line 638, in _validate_params\n",
            "    validate_parameter_constraints(\n",
            "  File \"/usr/local/lib/python3.10/dist-packages/sklearn/utils/_param_validation.py\", line 96, in validate_parameter_constraints\n",
            "    raise InvalidParameterError(\n",
            "sklearn.utils._param_validation.InvalidParameterError: The 'max_features' parameter of RandomForestRegressor must be an int in the range [1, inf), a float in the range (0.0, 1.0], a str among {'sqrt', 'log2'} or None. Got 'auto' instead.\n",
            "\n",
            "  warnings.warn(some_fits_failed_message, FitFailedWarning)\n",
            "/usr/local/lib/python3.10/dist-packages/sklearn/model_selection/_search.py:979: UserWarning: One or more of the test scores are non-finite: [       nan        nan        nan        nan        nan        nan\n",
            "        nan        nan        nan        nan        nan        nan\n",
            "        nan        nan        nan        nan        nan        nan\n",
            "        nan        nan        nan        nan        nan        nan\n",
            "        nan        nan        nan        nan        nan        nan\n",
            "        nan        nan        nan        nan        nan        nan\n",
            " 0.15246447 0.16040423 0.15696283 0.15811314 0.17581676 0.18390477\n",
            " 0.18698805 0.18944121 0.19451088 0.19621308 0.19454108 0.19807537\n",
            " 0.19323538 0.19610797 0.19594498 0.19953904 0.20209731 0.19872656\n",
            " 0.19842114 0.19916699 0.20155569 0.20170287 0.20107263 0.2017494\n",
            " 0.19372444 0.19424087 0.19343737 0.19540221 0.19372444 0.19424087\n",
            " 0.19343737 0.19540221 0.19252219 0.19394642 0.19305094 0.19553665\n",
            " 0.13687087 0.14845847 0.14766514 0.15202316 0.17625499 0.18155323\n",
            " 0.17900259 0.18067171 0.19111807 0.19274178 0.19129939 0.191402\n",
            " 0.18436854 0.18825003 0.1865967  0.19091523 0.19980073 0.19599135\n",
            " 0.19246928 0.19324445 0.19011433 0.1916464  0.18734061 0.19018761\n",
            " 0.17870875 0.18262748 0.18052633 0.17993113 0.17870875 0.18262748\n",
            " 0.18052633 0.17993113 0.18485008 0.18589575 0.18187498 0.18144177\n",
            "        nan        nan        nan        nan        nan        nan\n",
            "        nan        nan        nan        nan        nan        nan\n",
            "        nan        nan        nan        nan        nan        nan\n",
            "        nan        nan        nan        nan        nan        nan\n",
            "        nan        nan        nan        nan        nan        nan\n",
            "        nan        nan        nan        nan        nan        nan\n",
            " 0.18491928 0.1877135  0.18978886 0.19171965 0.19123579 0.19050517\n",
            " 0.19132374 0.19417832 0.1903802  0.1921007  0.19207448 0.1941831\n",
            " 0.19555334 0.19463596 0.19464806 0.19757688 0.19223814 0.19357857\n",
            " 0.19325818 0.19501514 0.19165165 0.19520849 0.19281614 0.19564562\n",
            " 0.1855027  0.18590577 0.18557876 0.18959073 0.1855027  0.18590577\n",
            " 0.18557876 0.18959073 0.18598748 0.18881819 0.18819803 0.18922122\n",
            " 0.18893656 0.18867057 0.18345613 0.1842126  0.18611772 0.18668927\n",
            " 0.18491549 0.18542317 0.1879557  0.19014602 0.18683409 0.18791053\n",
            " 0.18821313 0.18758243 0.18252168 0.18405104 0.19212449 0.18855982\n",
            " 0.18492938 0.18564671 0.18268754 0.18368977 0.17994118 0.18115769\n",
            " 0.17150889 0.17488693 0.17335861 0.17383308 0.17150889 0.17488693\n",
            " 0.17335861 0.17383308 0.17768809 0.1785236  0.17516752 0.17505324\n",
            "        nan        nan        nan        nan        nan        nan\n",
            "        nan        nan        nan        nan        nan        nan\n",
            "        nan        nan        nan        nan        nan        nan\n",
            "        nan        nan        nan        nan        nan        nan\n",
            "        nan        nan        nan        nan        nan        nan\n",
            "        nan        nan        nan        nan        nan        nan\n",
            " 0.15032164 0.16125859 0.16058335 0.16363413 0.1853112  0.18585776\n",
            " 0.18874692 0.19128064 0.19110149 0.19447228 0.19595257 0.19768829\n",
            " 0.19703211 0.19550467 0.19583886 0.19861391 0.19600127 0.19469725\n",
            " 0.19523152 0.19778083 0.20050638 0.20244782 0.20004587 0.20039834\n",
            " 0.19354919 0.1944997  0.19366995 0.19539716 0.19354919 0.1944997\n",
            " 0.19366995 0.19539716 0.19285443 0.19458029 0.19354495 0.19616333\n",
            " 0.15788478 0.16152192 0.15772873 0.15932552 0.17973129 0.18570829\n",
            " 0.18400403 0.18470511 0.19075256 0.19129852 0.18986152 0.18986773\n",
            " 0.18484161 0.18907126 0.18629181 0.18975972 0.19290393 0.19275905\n",
            " 0.1892999  0.19025185 0.19423736 0.19488297 0.18940038 0.1917208\n",
            " 0.1775365  0.18157181 0.1795182  0.17884918 0.1775365  0.18157181\n",
            " 0.1795182  0.17884918 0.18467805 0.18550617 0.18199065 0.1816203\n",
            "        nan        nan        nan        nan        nan        nan\n",
            "        nan        nan        nan        nan        nan        nan\n",
            "        nan        nan        nan        nan        nan        nan\n",
            "        nan        nan        nan        nan        nan        nan\n",
            "        nan        nan        nan        nan        nan        nan\n",
            "        nan        nan        nan        nan        nan        nan\n",
            " 0.15218312 0.16016947 0.15644602 0.15824419 0.17578724 0.18314536\n",
            " 0.18653768 0.18903836 0.19451088 0.19621308 0.19462663 0.19816289\n",
            " 0.19323538 0.19610797 0.19594498 0.19953904 0.20209731 0.19872656\n",
            " 0.19842114 0.19916173 0.20155569 0.20170287 0.20107263 0.2017494\n",
            " 0.19372444 0.19424087 0.19343737 0.19540221 0.19372444 0.19424087\n",
            " 0.19343737 0.19540221 0.19252219 0.19394642 0.19305094 0.19553665\n",
            " 0.13648994 0.14803517 0.14713191 0.15244779 0.1757049  0.18120413\n",
            " 0.17891798 0.18069685 0.19098688 0.19267967 0.19125945 0.19136227\n",
            " 0.18426107 0.18820004 0.18656225 0.19088408 0.19980073 0.19599135\n",
            " 0.19246928 0.19324531 0.19011433 0.1916464  0.18734061 0.19018761\n",
            " 0.17870875 0.18262748 0.18052633 0.17993113 0.17870875 0.18262748\n",
            " 0.18052633 0.17993113 0.18485008 0.18589575 0.18187498 0.18144177\n",
            "        nan        nan        nan        nan        nan        nan\n",
            "        nan        nan        nan        nan        nan        nan\n",
            "        nan        nan        nan        nan        nan        nan\n",
            "        nan        nan        nan        nan        nan        nan\n",
            "        nan        nan        nan        nan        nan        nan\n",
            "        nan        nan        nan        nan        nan        nan\n",
            " 0.08188072 0.09131622 0.08991988 0.08788322 0.14746444 0.15373631\n",
            " 0.15509541 0.15460178 0.1818314  0.18443492 0.18583695 0.18468431\n",
            " 0.19126363 0.19107781 0.18969212 0.19067218 0.18877975 0.19134266\n",
            " 0.19103761 0.19176593 0.19840795 0.19664987 0.1985145  0.19820629\n",
            " 0.20099253 0.2009939  0.2027109  0.2027405  0.20099253 0.2009939\n",
            " 0.2027109  0.2027405  0.20237519 0.20421943 0.2036588  0.20419928\n",
            " 0.08994398 0.08983337 0.08999025 0.09137444 0.15732531 0.15649931\n",
            " 0.15621674 0.15683506 0.18446704 0.18103697 0.18309849 0.18453842\n",
            " 0.18629618 0.18773827 0.18720432 0.1870129  0.18932164 0.19420068\n",
            " 0.19344828 0.1913433  0.19505349 0.19668698 0.19634312 0.19571318\n",
            " 0.19451486 0.19330281 0.19407374 0.19519899 0.19451486 0.19330281\n",
            " 0.19407374 0.19519899 0.19631752 0.19516181 0.19202838 0.19362359\n",
            "        nan        nan        nan        nan        nan        nan\n",
            "        nan        nan        nan        nan        nan        nan\n",
            "        nan        nan        nan        nan        nan        nan\n",
            "        nan        nan        nan        nan        nan        nan\n",
            "        nan        nan        nan        nan        nan        nan\n",
            "        nan        nan        nan        nan        nan        nan\n",
            " 0.18910545 0.18947365 0.19149318 0.19015361 0.19382514 0.19556737\n",
            " 0.1943512  0.19327282 0.19378921 0.19475064 0.19577708 0.19572249\n",
            " 0.19582715 0.19931487 0.19913153 0.19926379 0.19929911 0.20008333\n",
            " 0.19832157 0.19965505 0.19354971 0.19631372 0.19594877 0.19799777\n",
            " 0.19486337 0.19736075 0.19862043 0.19874689 0.19486337 0.19736075\n",
            " 0.19862043 0.19874689 0.19590702 0.19614175 0.1980937  0.19895766\n",
            " 0.17923482 0.18326378 0.18335561 0.18116408 0.17762682 0.18549077\n",
            " 0.1852308  0.18662145 0.18509733 0.1886069  0.1857347  0.1873616\n",
            " 0.19288288 0.19296347 0.19133311 0.1907177  0.19077762 0.19090622\n",
            " 0.19038477 0.19109899 0.19319944 0.19240588 0.191256   0.19078328\n",
            " 0.19068954 0.19149931 0.18979992 0.18990862 0.19068954 0.19149931\n",
            " 0.18979992 0.18990862 0.19032437 0.18783172 0.18618992 0.18683334\n",
            "        nan        nan        nan        nan        nan        nan\n",
            "        nan        nan        nan        nan        nan        nan\n",
            "        nan        nan        nan        nan        nan        nan\n",
            "        nan        nan        nan        nan        nan        nan\n",
            "        nan        nan        nan        nan        nan        nan\n",
            "        nan        nan        nan        nan        nan        nan\n",
            " 0.11041541 0.11588605 0.11758532 0.11609505 0.15750301 0.1621393\n",
            " 0.16118337 0.1625338  0.18325833 0.18615533 0.18637886 0.18701037\n",
            " 0.19400126 0.19316783 0.19240615 0.19093392 0.1903902  0.19257526\n",
            " 0.19280098 0.19255298 0.20302166 0.201916   0.2012933  0.20047913\n",
            " 0.19821789 0.200559   0.20349929 0.20354029 0.19821789 0.200559\n",
            " 0.20349929 0.20354029 0.20184591 0.20261743 0.20360879 0.20427403\n",
            " 0.11017306 0.11690979 0.11828559 0.11751399 0.16398827 0.16504033\n",
            " 0.16542927 0.1639126  0.18001243 0.18231154 0.18209477 0.18341729\n",
            " 0.19097843 0.19429159 0.19399154 0.19124696 0.19498075 0.19600415\n",
            " 0.19196891 0.18991215 0.1950255  0.19533433 0.19506262 0.1953407\n",
            " 0.19896122 0.19488874 0.19374654 0.19516143 0.19896122 0.19488874\n",
            " 0.19374654 0.19516143 0.19401831 0.19316546 0.19135563 0.19312486\n",
            "        nan        nan        nan        nan        nan        nan\n",
            "        nan        nan        nan        nan        nan        nan\n",
            "        nan        nan        nan        nan        nan        nan\n",
            "        nan        nan        nan        nan        nan        nan\n",
            "        nan        nan        nan        nan        nan        nan\n",
            "        nan        nan        nan        nan        nan        nan\n",
            " 0.08220111 0.09337488 0.09115723 0.08880857 0.14865062 0.15497744\n",
            " 0.15591125 0.15550075 0.18359217 0.18497842 0.18606644 0.18484585\n",
            " 0.1916736  0.19128699 0.18988252 0.19070681 0.18905288 0.19131016\n",
            " 0.19106758 0.19184815 0.19840795 0.19664987 0.19855195 0.19823816\n",
            " 0.20099253 0.2009939  0.2027109  0.2027405  0.20099253 0.2009939\n",
            " 0.2027109  0.2027405  0.20237519 0.20421943 0.2036588  0.20419928\n",
            " 0.08962946 0.09023853 0.08901343 0.09123974 0.15825382 0.15701561\n",
            " 0.15622307 0.15729284 0.18462972 0.18098077 0.18328954 0.18469951\n",
            " 0.18667797 0.18790713 0.18731703 0.18709109 0.19008048 0.1945669\n",
            " 0.19350568 0.19145406 0.19505349 0.19668698 0.19634312 0.19574897\n",
            " 0.19451486 0.19330281 0.19407374 0.19519899 0.19451486 0.19330281\n",
            " 0.19407374 0.19519899 0.19631752 0.19516181 0.19202838 0.19362359]\n",
            "  warnings.warn(\n"
          ]
        },
        {
          "output_type": "stream",
          "name": "stdout",
          "text": [
            "Best Parameters: {'bootstrap': False, 'max_depth': 20, 'max_features': 'sqrt', 'min_samples_leaf': 4, 'min_samples_split': 10, 'n_estimators': 500}\n",
            "Best Cross-Validation R² Score: 0.20427403233293706\n",
            "Random Forest Regression R² (Train): 0.42730368110475236\n",
            "Random Forest Regression RMSE (Train): 1.921827146058165\n",
            "Random Forest Regression R² (Test): 0.22039035774115812\n",
            "Random Forest Regression RMSE (Test): 2.291624672142896\n",
            "Random Forest Regression Std Dev (Test Predictions): 1.0399949299056475\n"
          ]
        }
      ]
    },
    {
      "cell_type": "code",
      "source": [
        "# Random Forest Regression\n",
        "rf_reg = RandomForestRegressor(n_estimators=500, random_state=42, bootstrap=False, max_depth=20, max_features='sqrt', min_samples_leaf=4, min_samples_split=10)\n",
        "rf_reg.fit(X_train, y_train)\n",
        "y_train_pred_rf = rf_reg.predict(X_train)\n",
        "y_test_pred_rf = rf_reg.predict(X_test)\n",
        "\n",
        "# Calculate metrics for Random Forest Regression\n",
        "r2_train_rf = r2_score(y_train, y_train_pred_rf)\n",
        "r2_test_rf = r2_score(y_test, y_test_pred_rf)\n",
        "rmse_train_rf = np.sqrt(mean_squared_error(y_train, y_train_pred_rf))\n",
        "rmse_test_rf = np.sqrt(mean_squared_error(y_test, y_test_pred_rf))\n",
        "std_dev_rf = np.std(y_test_pred_rf)\n",
        "\n",
        "print(f'Random Forest Regression R² (Train): {r2_train_rf}')\n",
        "print(f'Random Forest Regression R² (Test): {r2_test_rf}')\n",
        "print(f'Random Forest Regression RMSE (Train): {rmse_train_rf}')\n",
        "print(f'Random Forest Regression RMSE (Test): {rmse_test_rf}')\n",
        "print(f'Random Forest Regression Std Dev (Test Predictions): {std_dev_rf}\\n')"
      ],
      "metadata": {
        "colab": {
          "base_uri": "https://localhost:8080/"
        },
        "id": "fskmRUoPGp16",
        "outputId": "9f706d16-c8c3-4954-9d16-ddc1bd1cca99"
      },
      "execution_count": null,
      "outputs": [
        {
          "output_type": "stream",
          "name": "stdout",
          "text": [
            "Random Forest Regression R² (Train): 0.42730368110475236\n",
            "Random Forest Regression R² (Test): 0.22039035774115812\n",
            "Random Forest Regression RMSE (Train): 1.921827146058165\n",
            "Random Forest Regression RMSE (Test): 2.291624672142896\n",
            "Random Forest Regression Std Dev (Test Predictions): 1.0399949299056475\n",
            "\n"
          ]
        }
      ]
    },
    {
      "cell_type": "code",
      "source": [
        "feature_importances = rf_reg.feature_importances_\n",
        "feature_names = X.columns\n",
        "\n",
        "import matplotlib.pyplot as plt\n",
        "import numpy as np\n",
        "\n",
        "# Sort the features by importance\n",
        "indices = np.argsort(feature_importances)\n",
        "\n",
        "# Create the plot\n",
        "plt.figure(figsize=(10, 6))\n",
        "plt.title(\"Feature Importance\")\n",
        "plt.barh(range(len(indices)), feature_importances[indices], align=\"center\")\n",
        "plt.yticks(range(len(indices)), [feature_names[i] for i in indices])\n",
        "plt.xlabel(\"Relative Importance\")\n",
        "plt.show()"
      ],
      "metadata": {
        "id": "TLTLoMi41Oyz",
        "colab": {
          "base_uri": "https://localhost:8080/"
        },
        "outputId": "64915fcf-f631-4052-b518-82214333315d"
      },
      "execution_count": null,
      "outputs": [
        {
          "output_type": "display_data",
          "data": {
            "text/plain": [
              "<Figure size 1000x600 with 1 Axes>"
            ],
            "image/png": "[encoded data removed]"
          },
          "metadata": {}
        }
      ]
    },
    {
      "cell_type": "markdown",
      "source": [
        "# **No NAN Rows - LinearRegression / Random Forest / XGBoost models (num_of_reports)**"
      ],
      "metadata": {
        "id": "q-Kgit1C1y-z"
      }
    },
    {
      "cell_type": "code",
      "source": [
        "#TARGET = num_of_reports\n",
        "\n",
        "# Define features and target\n",
        "X = model_df_noNanRows.drop(columns=['num_of_reports', 'id', 'כתובת_תיאור_מיקום_נקודת_המדידה', 'זמן_סיום_מהמערכת', 'מדד סוציואקונומי', 'פריט אחר', 'כוס', 'שקיות', 'אריזות', 'סיגריות', 'בקבוקים', 'צרכים בע\"ח', 'פלסטיק', 'מסיכות', 'פחיות', 'נייר', 'עטיפות', 'רכב', 'הולך רגל'])\n",
        "y = model_df_noNanRows['num_of_reports']\n",
        "\n",
        "# Convert date to numeric\n",
        "#X['זמן_סיום_מהמערכת'] = pd.to_datetime(X['זמן_סיום_מהמערכת'], format = '%d-%m-%Y')\n",
        "#X['זמן_סיום_מהמערכת'] = X['זמן_סיום_מהמערכת'].map(dt.datetime.toordinal)\n",
        "\n",
        "# Split the data into training and testing sets\n",
        "X_train, X_test, y_train, y_test = train_test_split(X, y, test_size=0.3, random_state=42)\n",
        "\n",
        "# Linear Regression\n",
        "lin_reg = LinearRegression()\n",
        "lin_reg.fit(X_train, y_train)\n",
        "y_train_pred_lin = lin_reg.predict(X_train)\n",
        "y_test_pred_lin = lin_reg.predict(X_test)\n",
        "\n",
        "# Calculate metrics for Linear Regression\n",
        "r2_train_lin = r2_score(y_train, y_train_pred_lin)\n",
        "r2_test_lin = r2_score(y_test, y_test_pred_lin)\n",
        "rmse_train_lin = np.sqrt(mean_squared_error(y_train, y_train_pred_lin))\n",
        "rmse_test_lin = np.sqrt(mean_squared_error(y_test, y_test_pred_lin))\n",
        "std_dev_lin = np.std(y_test_pred_lin)\n",
        "\n",
        "print(f'NO NAN ROWS\\nTARGET = NUM_OF_REPORTS\\n')\n",
        "print(f'Linear Regression R² (Train): {r2_train_lin}')\n",
        "print(f'Linear Regression R² (Test): {r2_test_lin}')\n",
        "print(f'Linear Regression RMSE (Train): {rmse_train_lin}')\n",
        "print(f'Linear Regression RMSE (Test): {rmse_test_lin}')\n",
        "print(f'Linear Regression Std Dev (Test Predictions): {std_dev_lin}\\n')\n",
        "\n",
        "# Random Forest Regression\n",
        "rf_reg = RandomForestRegressor(n_estimators=100, random_state=42)\n",
        "rf_reg.fit(X_train, y_train)\n",
        "y_train_pred_rf = rf_reg.predict(X_train)\n",
        "y_test_pred_rf = rf_reg.predict(X_test)\n",
        "\n",
        "# Calculate metrics for Random Forest Regression\n",
        "r2_train_rf = r2_score(y_train, y_train_pred_rf)\n",
        "r2_test_rf = r2_score(y_test, y_test_pred_rf)\n",
        "rmse_train_rf = np.sqrt(mean_squared_error(y_train, y_train_pred_rf))\n",
        "rmse_test_rf = np.sqrt(mean_squared_error(y_test, y_test_pred_rf))\n",
        "std_dev_rf = np.std(y_test_pred_rf)\n",
        "\n",
        "print(f'Random Forest Regression R² (Train): {r2_train_rf}')\n",
        "print(f'Random Forest Regression R² (Test): {r2_test_rf}')\n",
        "print(f'Random Forest Regression RMSE (Train): {rmse_train_rf}')\n",
        "print(f'Random Forest Regression RMSE (Test): {rmse_test_rf}')\n",
        "print(f'Random Forest Regression Std Dev (Test Predictions): {std_dev_rf}\\n')\n",
        "\n",
        "# XGBoost Regression\n",
        "xgb_reg = XGBRegressor(n_estimators=100, random_state=42)\n",
        "xgb_reg.fit(X_train, y_train)\n",
        "y_train_pred_xgb = xgb_reg.predict(X_train)\n",
        "y_test_pred_xgb = xgb_reg.predict(X_test)\n",
        "\n",
        "# Calculate metrics for XGBoost Regression\n",
        "r2_train_xgb = r2_score(y_train, y_train_pred_xgb)\n",
        "r2_test_xgb = r2_score(y_test, y_test_pred_xgb)\n",
        "rmse_train_xgb = np.sqrt(mean_squared_error(y_train, y_train_pred_xgb))\n",
        "rmse_test_xgb = np.sqrt(mean_squared_error(y_test, y_test_pred_xgb))\n",
        "std_dev_xgb = np.std(y_test_pred_xgb)\n",
        "\n",
        "print(f'XGBoost Regression R² (Train): {r2_train_xgb}')\n",
        "print(f'XGBoost Regression R² (Test): {r2_test_xgb}')\n",
        "print(f'XGBoost Regression RMSE (Train): {rmse_train_xgb}')\n",
        "print(f'XGBoost Regression RMSE (Test): {rmse_test_xgb}')\n",
        "print(f'XGBoost Regression Std Dev (Test Predictions): {std_dev_xgb}')\n",
        "\n",
        "X.to_excel('model_df_noNanRows_afterDrop.xlsx', index=False)"
      ],
      "metadata": {
        "id": "xySXILOz1r5W",
        "colab": {
          "base_uri": "https://localhost:8080/"
        },
        "outputId": "72f667a0-9654-484a-dfee-d0634659c5c2"
      },
      "execution_count": null,
      "outputs": [
        {
          "output_type": "stream",
          "name": "stdout",
          "text": [
            "NO NAN ROWS\n",
            "TARGET = NUM_OF_REPORTS\n",
            "\n",
            "Linear Regression R² (Train): 0.4641109957230751\n",
            "Linear Regression R² (Test): -0.9905809884509247\n",
            "Linear Regression RMSE (Train): 2.2558188879024503\n",
            "Linear Regression RMSE (Test): 3.5730201042194554\n",
            "Linear Regression Std Dev (Test Predictions): 3.301633493342157\n",
            "\n",
            "Random Forest Regression R² (Train): 0.8263470407610741\n",
            "Random Forest Regression R² (Test): 0.03804786980353092\n",
            "Random Forest Regression RMSE (Train): 1.2841267706413053\n",
            "Random Forest Regression RMSE (Test): 2.4838322647865323\n",
            "Random Forest Regression Std Dev (Test Predictions): 1.270191215403498\n",
            "\n",
            "XGBoost Regression R² (Train): 0.9996910471729165\n",
            "XGBoost Regression R² (Test): -0.6835515067942581\n",
            "XGBoost Regression RMSE (Train): 0.05416426977062537\n",
            "XGBoost Regression RMSE (Test): 3.2859332559846184\n",
            "XGBoost Regression Std Dev (Test Predictions): 2.3941376209259033\n"
          ]
        }
      ]
    },
    {
      "cell_type": "markdown",
      "source": [
        "# **Turning the data for Classification**"
      ],
      "metadata": {
        "id": "izGrLBrkaC37"
      }
    },
    {
      "cell_type": "code",
      "source": [
        "import pandas as pd\n",
        "import numpy as np\n",
        "from sklearn.preprocessing import LabelEncoder\n",
        "\n",
        "# Assuming `model_df_noNanColumns` is your initial DataFrame\n",
        "model_df_noNanColumns_Classes = model_df_noNanColumns\n",
        "\n",
        "# Calculate the 33rd and 66th percentiles\n",
        "lower_threshold = model_df_noNanColumns_Classes['num_of_reports'].quantile(0.3)\n",
        "upper_threshold = model_df_noNanColumns_Classes['num_of_reports'].quantile(0.66)\n",
        "\n",
        "# Create the classes\n",
        "model_df_noNanColumns_Classes['target'] = pd.cut(model_df_noNanColumns_Classes['num_of_reports'],\n",
        "                            bins=[-np.inf, lower_threshold, upper_threshold, np.inf],\n",
        "                            labels=['Low', 'Medium', 'High'])\n",
        "\n",
        "# Summarize class distribution\n",
        "class_summary = model_df_noNanColumns_Classes['target'].value_counts()\n",
        "class_summary_pct = model_df_noNanColumns_Classes['target'].value_counts(normalize=True)\n",
        "\n",
        "summary = pd.concat([class_summary, class_summary_pct], axis=1, keys=['Count', 'Percentage'])\n",
        "print(summary)\n"
      ],
      "metadata": {
        "id": "Rk4tdzvUM_mx",
        "colab": {
          "base_uri": "https://localhost:8080/"
        },
        "outputId": "20bec806-2be1-42dc-e016-ad724448f5b0"
      },
      "execution_count": null,
      "outputs": [
        {
          "output_type": "stream",
          "name": "stdout",
          "text": [
            "        Count  Percentage\n",
            "target                   \n",
            "Low       945    0.423197\n",
            "Medium    763    0.341693\n",
            "High      525    0.235110\n"
          ]
        },
        {
          "output_type": "stream",
          "name": "stderr",
          "text": [
            "<ipython-input-27-4170b45d0ade>:13: SettingWithCopyWarning: \n",
            "A value is trying to be set on a copy of a slice from a DataFrame.\n",
            "Try using .loc[row_indexer,col_indexer] = value instead\n",
            "\n",
            "See the caveats in the documentation: https://pandas.pydata.org/pandas-docs/stable/user_guide/indexing.html#returning-a-view-versus-a-copy\n",
            "  model_df_noNanColumns_Classes['target'] = pd.cut(model_df_noNanColumns_Classes['num_of_reports'],\n"
          ]
        }
      ]
    },
    {
      "cell_type": "code",
      "source": [
        "model_df_noNanColumns_Classes.to_excel('model_df_noNanColumns_Classes.xlsx', index=False)"
      ],
      "metadata": {
        "id": "lXllg-XKQBe8"
      },
      "execution_count": null,
      "outputs": []
    },
    {
      "cell_type": "code",
      "source": [
        "import pandas as pd\n",
        "from sklearn.model_selection import train_test_split, GridSearchCV\n",
        "from sklearn.preprocessing import LabelEncoder, StandardScaler\n",
        "from sklearn.ensemble import GradientBoostingClassifier\n",
        "from sklearn.metrics import classification_report, accuracy_score\n",
        "\n",
        "# Load the dataset\n",
        "file_path = 'model_df_noNanColumns_Classes.xlsx'\n",
        "df = pd.read_excel(file_path)\n",
        "\n",
        "# Encode the target variable\n",
        "label_encoder = LabelEncoder()\n",
        "df['target'] = label_encoder.fit_transform(df['target'])\n",
        "\n",
        "# Drop the specified columns\n",
        "X = df.drop(columns=[\n",
        "    'target', 'num_of_reports', 'id', 'מדד סוציואקונומי', 'כתובת_תיאור_מיקום_נקודת_המדידה',\n",
        "    'זמן_סיום_מהמערכת', 'פריט אחר', 'כוס', 'שקיות', 'אריזות', 'סיגריות', 'בקבוקים',\n",
        "    'צרכים בע\"ח', 'פלסטיק', 'מסיכות', 'פחיות', 'נייר', 'עטיפות', 'רכב', 'הולך רגל',\n",
        "    ])\n",
        "y = df['target']\n",
        "\n",
        "# Split the data into training and testing sets\n",
        "X_train, X_test, y_train, y_test = train_test_split(X, y, test_size=0.3, random_state=42)\n",
        "\n",
        "# Standardize the features\n",
        "#scaler = StandardScaler()\n",
        "#X_train = scaler.fit_transform(X_train)\n",
        "#X_test = scaler.transform(X_test)\n",
        "\n",
        "# Initialize the model with the best parameters\n",
        "gb = GradientBoostingClassifier(random_state=42)\n",
        "\n",
        "# Train the model on the entire training set\n",
        "gb.fit(X_train, y_train)\n",
        "\n",
        "# Make predictions on the test set\n",
        "y_pred = gb.predict(X_test)\n",
        "\n",
        "# Evaluate the model\n",
        "accuracy = accuracy_score(y_test, y_pred)\n",
        "report = classification_report(y_test, y_pred, target_names=label_encoder.classes_)\n",
        "\n",
        "print(accuracy)\n",
        "print(report)"
      ],
      "metadata": {
        "id": "BJRs-mQ1VZNy",
        "colab": {
          "base_uri": "https://localhost:8080/"
        },
        "outputId": "ab3537e5-7ddf-483f-de2d-1d79b7346bf4"
      },
      "execution_count": null,
      "outputs": [
        {
          "output_type": "stream",
          "name": "stdout",
          "text": [
            "0.49402985074626865\n",
            "              precision    recall  f1-score   support\n",
            "\n",
            "        High       0.49      0.30      0.37       156\n",
            "         Low       0.52      0.71      0.60       272\n",
            "      Medium       0.45      0.38      0.41       242\n",
            "\n",
            "    accuracy                           0.49       670\n",
            "   macro avg       0.49      0.46      0.46       670\n",
            "weighted avg       0.49      0.49      0.48       670\n",
            "\n"
          ]
        }
      ]
    },
    {
      "cell_type": "code",
      "source": [
        "# Running the training and evaluation process multiple times with correct initialization\n",
        "\n",
        "results = []\n",
        "\n",
        "for i in range(5):  # Run the process 5 times\n",
        "    # Split the data into training and testing sets\n",
        "    X_train, X_test, y_train, y_test = train_test_split(X, y, test_size=0.2, random_state=i*42)\n",
        "\n",
        "    # Initialize the model with the best parameters\n",
        "    gb = GradientBoostingClassifier(random_state=42)\n",
        "\n",
        "    # Train the model on the entire training set\n",
        "    gb.fit(X_train, y_train)\n",
        "\n",
        "    # Make predictions on the test set\n",
        "    y_pred = gb.predict(X_test)\n",
        "\n",
        "    # Evaluate the model\n",
        "    print(f\"Iteration: {i+1}\")\n",
        "    accuracy = accuracy_score(y_test, y_pred)\n",
        "    print(accuracy)\n",
        "    report = classification_report(y_test, y_pred, target_names=label_encoder.classes_)\n",
        "    print(report)\n",
        "\n",
        "    results.append({\n",
        "        \"Iteration\": i + 1,\n",
        "        \"Accuracy\": accuracy,\n",
        "        \"Classification Report\": report\n",
        "    })\n"
      ],
      "metadata": {
        "id": "dXLXJDCJgRTb",
        "colab": {
          "base_uri": "https://localhost:8080/"
        },
        "outputId": "3d131000-1ed8-4555-e7e2-57c0785310f0"
      },
      "execution_count": null,
      "outputs": [
        {
          "output_type": "stream",
          "name": "stdout",
          "text": [
            "Iteration: 1\n",
            "0.5302013422818792\n",
            "              precision    recall  f1-score   support\n",
            "\n",
            "        High       0.49      0.46      0.48        99\n",
            "         Low       0.54      0.70      0.61       182\n",
            "      Medium       0.54      0.39      0.45       166\n",
            "\n",
            "    accuracy                           0.53       447\n",
            "   macro avg       0.52      0.52      0.51       447\n",
            "weighted avg       0.53      0.53      0.52       447\n",
            "\n",
            "Iteration: 2\n",
            "0.5167785234899329\n",
            "              precision    recall  f1-score   support\n",
            "\n",
            "        High       0.52      0.31      0.39       107\n",
            "         Low       0.51      0.78      0.62       168\n",
            "      Medium       0.52      0.39      0.45       172\n",
            "\n",
            "    accuracy                           0.52       447\n",
            "   macro avg       0.52      0.49      0.48       447\n",
            "weighted avg       0.52      0.52      0.50       447\n",
            "\n",
            "Iteration: 3\n",
            "0.48322147651006714\n",
            "              precision    recall  f1-score   support\n",
            "\n",
            "        High       0.53      0.31      0.39       121\n",
            "         Low       0.53      0.64      0.58       182\n",
            "      Medium       0.40      0.43      0.41       144\n",
            "\n",
            "    accuracy                           0.48       447\n",
            "   macro avg       0.49      0.46      0.46       447\n",
            "weighted avg       0.49      0.48      0.48       447\n",
            "\n",
            "Iteration: 4\n",
            "0.5346756152125279\n",
            "              precision    recall  f1-score   support\n",
            "\n",
            "        High       0.54      0.36      0.43        96\n",
            "         Low       0.55      0.68      0.61       194\n",
            "      Medium       0.50      0.46      0.48       157\n",
            "\n",
            "    accuracy                           0.53       447\n",
            "   macro avg       0.53      0.50      0.51       447\n",
            "weighted avg       0.53      0.53      0.53       447\n",
            "\n",
            "Iteration: 5\n",
            "0.5279642058165548\n",
            "              precision    recall  f1-score   support\n",
            "\n",
            "        High       0.53      0.34      0.41       113\n",
            "         Low       0.59      0.74      0.66       188\n",
            "      Medium       0.42      0.40      0.41       146\n",
            "\n",
            "    accuracy                           0.53       447\n",
            "   macro avg       0.51      0.49      0.49       447\n",
            "weighted avg       0.52      0.53      0.51       447\n",
            "\n"
          ]
        }
      ]
    },
    {
      "cell_type": "code",
      "source": [
        "import matplotlib.pyplot as plt\n",
        "from sklearn.metrics import ConfusionMatrixDisplay\n",
        "\n",
        "# Plot the confusion matrix\n",
        "ConfusionMatrixDisplay.from_estimator(gb, X_test, y_test, display_labels=label_encoder.classes_, cmap=plt.cm.Blues)\n",
        "plt.title(\"Confusion Matrix for the Best Gradient Boosting Model\")\n",
        "plt.show()"
      ],
      "metadata": {
        "id": "UUO4gphQaeOr",
        "colab": {
          "base_uri": "https://localhost:8080/",
          "height": 472
        },
        "outputId": "d0db9868-721a-495f-edf2-ad93e4a8961f"
      },
      "execution_count": null,
      "outputs": [
        {
          "output_type": "display_data",
          "data": {
            "text/plain": [
              "<Figure size 640x480 with 2 Axes>"
            ],
            "image/png": "[encoded data removed]"
          },
          "metadata": {}
        }
      ]
    }
  ]
}